{
 "cells": [
  {
   "cell_type": "markdown",
   "metadata": {},
   "source": [
    "# CNN sa augmentacijom podataka"
   ]
  },
  {
   "cell_type": "code",
   "execution_count": 1,
   "metadata": {},
   "outputs": [],
   "source": [
    "import cv2\n",
    "import glob\n",
    "import fnmatch\n",
    "import numpy as np\n",
    "import pandas as pd\n",
    "from sklearn import model_selection\n",
    "from sklearn import metrics\n",
    "from sklearn.metrics import classification_report\n",
    "from sklearn.metrics import confusion_matrix\n",
    "from matplotlib import pyplot as plt\n",
    "import random"
   ]
  },
  {
   "cell_type": "code",
   "execution_count": 3,
   "metadata": {},
   "outputs": [],
   "source": [
    "from keras import utils\n",
    "from keras.models import Sequential\n",
    "from keras.layers import Dense,Dropout,Flatten,Conv2D,MaxPooling2D, BatchNormalization\n",
    "from keras.optimizers import Adam\n",
    "from keras.metrics import AUC"
   ]
  },
  {
   "cell_type": "markdown",
   "metadata": {},
   "source": [
    "### Učitavanje  putanja slika"
   ]
  },
  {
   "cell_type": "markdown",
   "metadata": {},
   "source": [
    "Za učitavanje putanja do slika sa kojima radimo koristimo funkciju ***glob***. Kao argumente prosleđujemo putanje\n",
    "(sa wild card karakterima koji zamenjuju bilo koje uzastopne karaktere), i parametar *recursive* koji, kada je postavljen\n",
    "na *True*, omogućava da se pretrga vrši po svim direktorijumima i poddirektorijumima."
   ]
  },
  {
   "cell_type": "code",
   "execution_count": 4,
   "metadata": {},
   "outputs": [],
   "source": [
    "imagePatches = glob.glob('C:/Users/pc/Desktop/data/**/*.png', recursive=True)"
   ]
  },
  {
   "cell_type": "markdown",
   "metadata": {},
   "source": [
    "Odlučili smo da radimo sa skupom od 40 000 slika."
   ]
  },
  {
   "cell_type": "code",
   "execution_count": 5,
   "metadata": {},
   "outputs": [],
   "source": [
    "imagePatches = imagePatches[:40000]"
   ]
  },
  {
   "cell_type": "markdown",
   "metadata": {},
   "source": [
    "Koristimo činjenicu da svaka slika u svojoj putanji ima naznačenu klasu kojoj pripada, \"class0\" za 0, i \"class1\" za 1."
   ]
  },
  {
   "cell_type": "code",
   "execution_count": 6,
   "metadata": {},
   "outputs": [],
   "source": [
    "patternZero = '*class0.png'\n",
    "patternOne = '*class1.png'"
   ]
  },
  {
   "cell_type": "markdown",
   "metadata": {},
   "source": [
    "Funkcija ***fnmatch.filter*** pronalazi sve putanje koje u sebi imaju šablon koji prosleđujemo kao drugi argument. Pomoću nje delimo naše putanje u dve grupe, u zavisnosti od klase."
   ]
  },
  {
   "cell_type": "code",
   "execution_count": 7,
   "metadata": {},
   "outputs": [],
   "source": [
    "classZero = fnmatch.filter(imagePatches, patternZero) \n",
    "classOne = fnmatch.filter(imagePatches, patternOne)"
   ]
  },
  {
   "cell_type": "markdown",
   "metadata": {},
   "source": [
    "Broj instanci negativne (invazivni duktalni karcinom nije detektovan) i pozitivne (invazivni duktalni karcinom je detektovan) klase:"
   ]
  },
  {
   "cell_type": "code",
   "execution_count": 8,
   "metadata": {},
   "outputs": [
    {
     "name": "stdout",
     "output_type": "stream",
     "text": [
      "IDC(-): 30753, IDC(+): 9247\n"
     ]
    }
   ],
   "source": [
    "print('IDC(-): {}, IDC(+): {}' .format(len(classZero), len(classOne)))"
   ]
  },
  {
   "cell_type": "markdown",
   "metadata": {},
   "source": [
    "Pravimo vektor ciljnih promenljivih koji će nam biti potreban za stratifikaciju prilikom deljenja na trening i test skup."
   ]
  },
  {
   "cell_type": "code",
   "execution_count": 9,
   "metadata": {},
   "outputs": [],
   "source": [
    "y = np.zeros(len(imagePatches))\n",
    "for i in range(len(imagePatches)):\n",
    "    if imagePatches[i] in classOne:\n",
    "        y[i] = 1"
   ]
  },
  {
   "cell_type": "code",
   "execution_count": 10,
   "metadata": {},
   "outputs": [
    {
     "data": {
      "text/plain": [
       "array([30753,  9247], dtype=int64)"
      ]
     },
     "execution_count": 10,
     "metadata": {},
     "output_type": "execute_result"
    }
   ],
   "source": [
    "y = y.astype('int64')\n",
    "np.bincount(y)"
   ]
  },
  {
   "cell_type": "markdown",
   "metadata": {},
   "source": [
    "### Podela podataka na train, validacioni i test skup"
   ]
  },
  {
   "cell_type": "code",
   "execution_count": 11,
   "metadata": {},
   "outputs": [],
   "source": [
    "train_val_paths,test_paths,y_train_val,y_test = model_selection.train_test_split(imagePatches, y, test_size = 0.33, random_state = 42, stratify = y)"
   ]
  },
  {
   "cell_type": "code",
   "execution_count": 12,
   "metadata": {},
   "outputs": [
    {
     "name": "stdout",
     "output_type": "stream",
     "text": [
      "train_validation_size: 26800, test_size: 13200 \n"
     ]
    }
   ],
   "source": [
    "print('train_validation_size: {}, test_size: {} ' .format(len(train_val_paths), len(test_paths)))"
   ]
  },
  {
   "cell_type": "code",
   "execution_count": 13,
   "metadata": {},
   "outputs": [
    {
     "name": "stdout",
     "output_type": "stream",
     "text": [
      "TrainVal skup: IDC(-): 20605, IDC(+): 6195\n"
     ]
    }
   ],
   "source": [
    "n = np.bincount(y_train_val)\n",
    "print('TrainVal skup: IDC(-): {}, IDC(+): {}' .format(n[0], n[1]))"
   ]
  },
  {
   "cell_type": "code",
   "execution_count": 14,
   "metadata": {},
   "outputs": [
    {
     "name": "stdout",
     "output_type": "stream",
     "text": [
      "Test skup: IDC(-): 10148, IDC(+): 3052\n"
     ]
    }
   ],
   "source": [
    "n = np.bincount(y_test)\n",
    "print('Test skup: IDC(-): {}, IDC(+): {}' .format(n[0], n[1]))"
   ]
  },
  {
   "cell_type": "markdown",
   "metadata": {},
   "source": [
    "##### Podela train_validation skupa"
   ]
  },
  {
   "cell_type": "code",
   "execution_count": 15,
   "metadata": {},
   "outputs": [],
   "source": [
    "train_paths,val_paths,y_train,y_val = model_selection.train_test_split(train_val_paths, y_train_val, test_size = 0.2, random_state = 42, stratify = y_train_val)"
   ]
  },
  {
   "cell_type": "code",
   "execution_count": 16,
   "metadata": {},
   "outputs": [
    {
     "name": "stdout",
     "output_type": "stream",
     "text": [
      "train_size: 21440, val_size: 5360\n"
     ]
    }
   ],
   "source": [
    "print('train_size: {}, val_size: {}' .format(len(train_paths),len(val_paths)))"
   ]
  },
  {
   "cell_type": "markdown",
   "metadata": {},
   "source": [
    "### Nebalansiranost train skupa"
   ]
  },
  {
   "cell_type": "markdown",
   "metadata": {},
   "source": [
    "U train skupu imamo znatno manji broj instanci pozitivne klase."
   ]
  },
  {
   "cell_type": "code",
   "execution_count": 17,
   "metadata": {
    "scrolled": true
   },
   "outputs": [
    {
     "name": "stdout",
     "output_type": "stream",
     "text": [
      "Train skup: IDC(-): 16484, IDC(+): 4956\n"
     ]
    }
   ],
   "source": [
    "n = np.bincount(y_train)\n",
    "print('Train skup: IDC(-): {}, IDC(+): {}' .format(n[0], n[1]))"
   ]
  },
  {
   "cell_type": "markdown",
   "metadata": {},
   "source": [
    "Isto važi i za validacioni skup."
   ]
  },
  {
   "cell_type": "code",
   "execution_count": 18,
   "metadata": {},
   "outputs": [
    {
     "name": "stdout",
     "output_type": "stream",
     "text": [
      "Validation skup: IDC(-): 4121, IDC(+): 1239\n"
     ]
    }
   ],
   "source": [
    "n = np.bincount(y_val)\n",
    "print('Validation skup: IDC(-): {}, IDC(+): {}' .format(n[0], n[1]))"
   ]
  },
  {
   "cell_type": "code",
   "execution_count": 19,
   "metadata": {},
   "outputs": [],
   "source": [
    "classZeroTrain = fnmatch.filter(train_paths, patternZero) \n",
    "classOneTrain = fnmatch.filter(train_paths, patternOne)"
   ]
  },
  {
   "cell_type": "markdown",
   "metadata": {},
   "source": [
    "Utvrđujemo kolika je razlia između broja instanci negativne i pozitivne klase. Izdvajamo onoliko putanja do pozitivnih instanci kolika je dobijena razlika (broj n). Te putanje smeštamo u skup \"additional_paths\". Izdvajanje mora biti sa ponavljanjem, jer razlika između kardinalnosti klasa može biti veća od kardinalnosti manjinske klase."
   ]
  },
  {
   "cell_type": "code",
   "execution_count": 20,
   "metadata": {},
   "outputs": [],
   "source": [
    "n = len(classZeroTrain) - len(classOneTrain)\n",
    "index = np.random.randint(0, len(classOneTrain), n)\n",
    "classOneTrain = np.array(classOneTrain)\n",
    "additional_paths = classOneTrain[index]"
   ]
  },
  {
   "cell_type": "markdown",
   "metadata": {},
   "source": [
    "### Učitavanje slika"
   ]
  },
  {
   "cell_type": "markdown",
   "metadata": {},
   "source": [
    "##### Train skup"
   ]
  },
  {
   "cell_type": "code",
   "execution_count": 21,
   "metadata": {},
   "outputs": [],
   "source": [
    "width = 50\n",
    "height = 50"
   ]
  },
  {
   "cell_type": "code",
   "execution_count": 22,
   "metadata": {},
   "outputs": [],
   "source": [
    "X_train = []\n",
    "y_train = list(y_train)"
   ]
  },
  {
   "cell_type": "markdown",
   "metadata": {},
   "source": [
    "Učitavamo slike iz nebalansiranog train skupa:"
   ]
  },
  {
   "cell_type": "code",
   "execution_count": 23,
   "metadata": {},
   "outputs": [],
   "source": [
    "for i in range(len(train_paths)):\n",
    "    img = cv2.resize(cv2.imread(train_paths[i]), (width, height), interpolation=cv2.INTER_CUBIC)\n",
    "    X_train.append(img)"
   ]
  },
  {
   "cell_type": "markdown",
   "metadata": {},
   "source": [
    "Nakon toga, za svaku putanju iz additional_paths učitavamo sliku koju dodajemo u train_validation skup, pri tom primenjujući transformacije kao što su rotacija i prevrtanje (flip). Transformaciju koju primenjujemo biramo na slučajan način za svaku sliku, korišćenjem funkcije ***random.randint*** kojom biramo indeks iz liste transformacija:"
   ]
  },
  {
   "cell_type": "code",
   "execution_count": 24,
   "metadata": {},
   "outputs": [],
   "source": [
    "rotate = [cv2.ROTATE_90_CLOCKWISE, cv2.ROTATE_90_COUNTERCLOCKWISE, cv2.ROTATE_180]\n",
    "flip = [0, 1, -1]\n",
    "\n",
    "for i in range(len(additional_paths)):\n",
    "    img = cv2.resize(cv2.imread(additional_paths[i]), (width, height), interpolation=cv2.INTER_CUBIC)\n",
    "    r = np.int(np.random.randint(0,3,1))\n",
    "    f = np.int(np.random.randint(0,3,1))\n",
    "    img = cv2.rotate(img, rotate[r])\n",
    "    img = cv2.flip(img, flip[f])\n",
    "    X_train.append(img)\n",
    "    y_train.append(1)"
   ]
  },
  {
   "cell_type": "markdown",
   "metadata": {},
   "source": [
    "Dodatno mešamo slike, da ne bismo na jednom mestu imali veliki broj instanci pozitivne klase koje smo naknadno dodali:"
   ]
  },
  {
   "cell_type": "code",
   "execution_count": 25,
   "metadata": {},
   "outputs": [],
   "source": [
    "X_train = np.array(X_train)\n",
    "index =  random.sample(list(np.arange(len(X_train))), k = len(X_train))\n",
    "X_train = X_train[index]\n",
    "y_train = np.array(y_train)\n",
    "y_train = y_train[index]"
   ]
  },
  {
   "cell_type": "code",
   "execution_count": 26,
   "metadata": {},
   "outputs": [
    {
     "data": {
      "text/plain": [
       "(32968, 50, 50, 3)"
      ]
     },
     "execution_count": 26,
     "metadata": {},
     "output_type": "execute_result"
    }
   ],
   "source": [
    "X_train.shape"
   ]
  },
  {
   "cell_type": "markdown",
   "metadata": {},
   "source": [
    "Dobili smo balansiran skup."
   ]
  },
  {
   "cell_type": "code",
   "execution_count": 27,
   "metadata": {},
   "outputs": [
    {
     "data": {
      "text/plain": [
       "array([16484, 16484], dtype=int64)"
      ]
     },
     "execution_count": 27,
     "metadata": {},
     "output_type": "execute_result"
    }
   ],
   "source": [
    "np.bincount(y_train)"
   ]
  },
  {
   "cell_type": "markdown",
   "metadata": {},
   "source": [
    "##### Validacioni skup\n"
   ]
  },
  {
   "cell_type": "code",
   "execution_count": 28,
   "metadata": {},
   "outputs": [],
   "source": [
    "# ucitavamo slike validacionog skupa\n",
    "X_val = []\n",
    "\n",
    "for i in range(len(val_paths)):\n",
    "    img = cv2.resize(cv2.imread(val_paths[i]), (width, height), interpolation=cv2.INTER_CUBIC)\n",
    "    X_val.append(img)\n",
    "\n",
    "X_val = np.array(X_val)"
   ]
  },
  {
   "cell_type": "code",
   "execution_count": 29,
   "metadata": {},
   "outputs": [
    {
     "data": {
      "text/plain": [
       "(5360, 50, 50, 3)"
      ]
     },
     "execution_count": 29,
     "metadata": {},
     "output_type": "execute_result"
    }
   ],
   "source": [
    "X_val.shape"
   ]
  },
  {
   "cell_type": "markdown",
   "metadata": {},
   "source": [
    "##### Test skup\n"
   ]
  },
  {
   "cell_type": "code",
   "execution_count": 30,
   "metadata": {},
   "outputs": [],
   "source": [
    "# ucitavamo slike test skupa\n",
    "X_test = []\n",
    "\n",
    "for i in range(len(test_paths)):\n",
    "    img = cv2.resize(cv2.imread(test_paths[i]), (width, height), interpolation=cv2.INTER_CUBIC)\n",
    "    X_test.append(img)\n",
    "    \n",
    "X_test = np.array(X_test)"
   ]
  },
  {
   "cell_type": "code",
   "execution_count": 31,
   "metadata": {},
   "outputs": [
    {
     "data": {
      "text/plain": [
       "(13200, 50, 50, 3)"
      ]
     },
     "execution_count": 31,
     "metadata": {},
     "output_type": "execute_result"
    }
   ],
   "source": [
    "X_test.shape"
   ]
  },
  {
   "cell_type": "markdown",
   "metadata": {},
   "source": [
    "### Normalizacija"
   ]
  },
  {
   "cell_type": "markdown",
   "metadata": {},
   "source": [
    "Svodimo vrednosti svakog piksela u opseg [0,1]"
   ]
  },
  {
   "cell_type": "code",
   "execution_count": 32,
   "metadata": {},
   "outputs": [],
   "source": [
    "X_train = X_train.astype('float32')\n",
    "X_train = X_train/255"
   ]
  },
  {
   "cell_type": "code",
   "execution_count": 33,
   "metadata": {},
   "outputs": [],
   "source": [
    "X_val= X_val.astype('float32')\n",
    "X_val = X_val/255"
   ]
  },
  {
   "cell_type": "code",
   "execution_count": 34,
   "metadata": {},
   "outputs": [],
   "source": [
    "X_test = X_test.astype('float32')\n",
    "X_test = X_test/255"
   ]
  },
  {
   "cell_type": "markdown",
   "metadata": {},
   "source": [
    "### One-hot kodiranje ciljne promenljive"
   ]
  },
  {
   "cell_type": "code",
   "execution_count": 35,
   "metadata": {},
   "outputs": [],
   "source": [
    "number_of_classes = len(np.unique(y_train))\n",
    "y_train_oneHot = utils.to_categorical(y_train, number_of_classes)\n",
    "y_val_oneHot = utils.to_categorical(y_val, number_of_classes)\n",
    "y_test_oneHot = utils.to_categorical(y_test,number_of_classes)"
   ]
  },
  {
   "cell_type": "markdown",
   "metadata": {},
   "source": [
    "### Kreiranje i treniranje mreže "
   ]
  },
  {
   "cell_type": "code",
   "execution_count": 36,
   "metadata": {},
   "outputs": [
    {
     "name": "stdout",
     "output_type": "stream",
     "text": [
      "WARNING:tensorflow:From C:\\Users\\pc\\anaconda3\\lib\\site-packages\\keras\\backend\\tensorflow_backend.py:4070: The name tf.nn.max_pool is deprecated. Please use tf.nn.max_pool2d instead.\n",
      "\n",
      "Model: \"sequential_1\"\n",
      "_________________________________________________________________\n",
      "Layer (type)                 Output Shape              Param #   \n",
      "=================================================================\n",
      "conv2d_1 (Conv2D)            (None, 50, 50, 32)        896       \n",
      "_________________________________________________________________\n",
      "max_pooling2d_1 (MaxPooling2 (None, 25, 25, 32)        0         \n",
      "_________________________________________________________________\n",
      "conv2d_2 (Conv2D)            (None, 25, 25, 64)        18496     \n",
      "_________________________________________________________________\n",
      "max_pooling2d_2 (MaxPooling2 (None, 12, 12, 64)        0         \n",
      "_________________________________________________________________\n",
      "flatten_1 (Flatten)          (None, 9216)              0         \n",
      "_________________________________________________________________\n",
      "dense_1 (Dense)              (None, 128)               1179776   \n",
      "_________________________________________________________________\n",
      "dropout_1 (Dropout)          (None, 128)               0         \n",
      "_________________________________________________________________\n",
      "dense_2 (Dense)              (None, 2)                 258       \n",
      "=================================================================\n",
      "Total params: 1,199,426\n",
      "Trainable params: 1,199,426\n",
      "Non-trainable params: 0\n",
      "_________________________________________________________________\n",
      "WARNING:tensorflow:From C:\\Users\\pc\\anaconda3\\lib\\site-packages\\keras\\backend\\tensorflow_backend.py:3172: add_dispatch_support.<locals>.wrapper (from tensorflow.python.ops.array_ops) is deprecated and will be removed in a future version.\n",
      "Instructions for updating:\n",
      "Use tf.where in 2.0, which has the same broadcast rule as np.where\n"
     ]
    }
   ],
   "source": [
    "input_shape = (50,50,3)\n",
    "\n",
    "model = Sequential()\n",
    "model.add(Conv2D(32, kernel_size=(3, 3), strides=(1, 1), padding='same', activation='relu', input_shape=input_shape))\n",
    "model.add(MaxPooling2D(pool_size=(2, 2)))\n",
    "model.add(Conv2D(64, (3, 3), strides=(1, 1), padding='same', activation='relu'))\n",
    "model.add(MaxPooling2D(pool_size=(2, 2)))\n",
    "model.add(Flatten())\n",
    "model.add(Dense(128, activation='relu'))\n",
    "model.add(Dropout(0.25))\n",
    "model.add(Dense(number_of_classes, activation='softmax'))\n",
    "\n",
    "model.summary()\n",
    "\n",
    "model.compile(loss='categorical_crossentropy', optimizer=Adam(learning_rate = 1e-5), metrics = [AUC()])"
   ]
  },
  {
   "cell_type": "code",
   "execution_count": 37,
   "metadata": {},
   "outputs": [
    {
     "name": "stdout",
     "output_type": "stream",
     "text": [
      "WARNING:tensorflow:From C:\\Users\\pc\\anaconda3\\lib\\site-packages\\keras\\backend\\tensorflow_backend.py:422: The name tf.global_variables is deprecated. Please use tf.compat.v1.global_variables instead.\n",
      "\n",
      "Train on 32968 samples, validate on 5360 samples\n",
      "Epoch 1/30\n",
      "32968/32968 [==============================] - 119s 4ms/step - loss: 0.5460 - auc_1: 0.8266 - val_loss: 0.4496 - val_auc_1: 0.8807\n",
      "Epoch 2/30\n",
      "32968/32968 [==============================] - 118s 4ms/step - loss: 0.4514 - auc_1: 0.8727 - val_loss: 0.4086 - val_auc_1: 0.8985\n",
      "Epoch 3/30\n",
      "32968/32968 [==============================] - 119s 4ms/step - loss: 0.4382 - auc_1: 0.8791 - val_loss: 0.5003 - val_auc_1: 0.8357\n",
      "Epoch 4/30\n",
      "32968/32968 [==============================] - 135s 4ms/step - loss: 0.4323 - auc_1: 0.8824 - val_loss: 0.4363 - val_auc_1: 0.8795\n",
      "Epoch 5/30\n",
      "32968/32968 [==============================] - 139s 4ms/step - loss: 0.4285 - auc_1: 0.8844 - val_loss: 0.4076 - val_auc_1: 0.8982\n",
      "Epoch 6/30\n",
      "32968/32968 [==============================] - 144s 4ms/step - loss: 0.4255 - auc_1: 0.8863 - val_loss: 0.3934 - val_auc_1: 0.9056\n",
      "Epoch 7/30\n",
      "32968/32968 [==============================] - 144s 4ms/step - loss: 0.4227 - auc_1: 0.8881 - val_loss: 0.4134 - val_auc_1: 0.8948\n",
      "Epoch 8/30\n",
      "32968/32968 [==============================] - 151s 5ms/step - loss: 0.4202 - auc_1: 0.8895 - val_loss: 0.4474 - val_auc_1: 0.8732\n",
      "Epoch 9/30\n",
      "32968/32968 [==============================] - 147s 4ms/step - loss: 0.4165 - auc_1: 0.8916 - val_loss: 0.4327 - val_auc_1: 0.8824\n",
      "Epoch 10/30\n",
      "32968/32968 [==============================] - 144s 4ms/step - loss: 0.4145 - auc_1: 0.8926 - val_loss: 0.3828 - val_auc_1: 0.9114\n",
      "Epoch 11/30\n",
      "32968/32968 [==============================] - 139s 4ms/step - loss: 0.4115 - auc_1: 0.8943 - val_loss: 0.4598 - val_auc_1: 0.8650\n",
      "Epoch 12/30\n",
      "32968/32968 [==============================] - 142s 4ms/step - loss: 0.4089 - auc_1: 0.8958 - val_loss: 0.4390 - val_auc_1: 0.8781\n",
      "Epoch 13/30\n",
      "32968/32968 [==============================] - 148s 4ms/step - loss: 0.4068 - auc_1: 0.8969 - val_loss: 0.4073 - val_auc_1: 0.8979 - loss: 0.4072 - au - ETA: 1s - loss: 0.4071 - auc\n",
      "Epoch 14/30\n",
      "32968/32968 [==============================] - 136s 4ms/step - loss: 0.4049 - auc_1: 0.8979 - val_loss: 0.3960 - val_auc_1: 0.9036\n",
      "Epoch 15/30\n",
      "32968/32968 [==============================] - 148s 4ms/step - loss: 0.4035 - auc_1: 0.8987 - val_loss: 0.4186 - val_auc_1: 0.8911\n",
      "Epoch 16/30\n",
      "32968/32968 [==============================] - 136s 4ms/step - loss: 0.4023 - auc_1: 0.8993 - val_loss: 0.4092 - val_auc_1: 0.8965\n",
      "Epoch 17/30\n",
      "32968/32968 [==============================] - 145s 4ms/step - loss: 0.4002 - auc_1: 0.9004 - val_loss: 0.4486 - val_auc_1: 0.8734\n",
      "Epoch 18/30\n",
      "32968/32968 [==============================] - 138s 4ms/step - loss: 0.3982 - auc_1: 0.9013 - val_loss: 0.4474 - val_auc_1: 0.8740\n",
      "Epoch 19/30\n",
      "32968/32968 [==============================] - 140s 4ms/step - loss: 0.3971 - auc_1: 0.9019 - val_loss: 0.4011 - val_auc_1: 0.9007\n",
      "Epoch 20/30\n",
      "32968/32968 [==============================] - 144s 4ms/step - loss: 0.3948 - auc_1: 0.9031 - val_loss: 0.4343 - val_auc_1: 0.8811\n",
      "Epoch 21/30\n",
      "32968/32968 [==============================] - 142s 4ms/step - loss: 0.3937 - auc_1: 0.9036 - val_loss: 0.3849 - val_auc_1: 0.9088\n",
      "Epoch 22/30\n",
      "32968/32968 [==============================] - 141s 4ms/step - loss: 0.3923 - auc_1: 0.9043 - val_loss: 0.4319 - val_auc_1: 0.8826\n",
      "Epoch 23/30\n",
      "32968/32968 [==============================] - 140s 4ms/step - loss: 0.3920 - auc_1: 0.9045 - val_loss: 0.3949 - val_auc_1: 0.9039\n",
      "Epoch 24/30\n",
      "32968/32968 [==============================] - 143s 4ms/step - loss: 0.3894 - auc_1: 0.9059 - val_loss: 0.4066 - val_auc_1: 0.8976\n",
      "Epoch 25/30\n",
      "32968/32968 [==============================] - 142s 4ms/step - loss: 0.3891 - auc_1: 0.9060 - val_loss: 0.4016 - val_auc_1: 0.9002\n",
      "Epoch 26/30\n",
      "32968/32968 [==============================] - 143s 4ms/step - loss: 0.3877 - auc_1: 0.9066 - val_loss: 0.4311 - val_auc_1: 0.8841\n",
      "Epoch 27/30\n",
      "32968/32968 [==============================] - 144s 4ms/step - loss: 0.3856 - auc_1: 0.9078 - val_loss: 0.3912 - val_auc_1: 0.9050\n",
      "Epoch 28/30\n",
      "32968/32968 [==============================] - 146s 4ms/step - loss: 0.3846 - auc_1: 0.9083 - val_loss: 0.3840 - val_auc_1: 0.9092\n",
      "Epoch 29/30\n",
      "32968/32968 [==============================] - 136s 4ms/step - loss: 0.3835 - auc_1: 0.9088 - val_loss: 0.4065 - val_auc_1: 0.8971\n",
      "Epoch 30/30\n",
      "32968/32968 [==============================] - 145s 4ms/step - loss: 0.3821 - auc_1: 0.9095 - val_loss: 0.4147 - val_auc_1: 0.8923\n"
     ]
    }
   ],
   "source": [
    "batch_size = 32\n",
    "epochs = 30\n",
    "history = model.fit(X_train, y_train_oneHot, epochs = epochs, batch_size = batch_size, validation_data = (X_val, y_val_oneHot))"
   ]
  },
  {
   "cell_type": "markdown",
   "metadata": {},
   "source": [
    "### Evaluacija mreže"
   ]
  },
  {
   "cell_type": "code",
   "execution_count": 38,
   "metadata": {},
   "outputs": [
    {
     "data": {
      "text/plain": [
       "['loss', 'auc_1']"
      ]
     },
     "execution_count": 38,
     "metadata": {},
     "output_type": "execute_result"
    }
   ],
   "source": [
    "model.metrics_names"
   ]
  },
  {
   "cell_type": "code",
   "execution_count": 39,
   "metadata": {},
   "outputs": [],
   "source": [
    "def plot(history):\n",
    "    plt.figure(figsize=(12, 6))\n",
    "    plt.subplot(1, 2, 1)\n",
    "    \n",
    "    epochs = history.epoch\n",
    "    loss = history.history['loss']\n",
    "    validation_loss = history.history['val_loss']\n",
    "    plt.title('LOSS')\n",
    "    plt.xlabel('epochs')\n",
    "    plt.ylabel('loss')\n",
    "    plt.plot(epochs,loss,c='red',label='training')\n",
    "    plt.plot(epochs,validation_loss,c='blue',label='validation')\n",
    "    plt.legend(loc='best')\n",
    "    \n",
    "    plt.subplot(1, 2, 2)\n",
    "    \n",
    "    acc = history.history['auc_1']\n",
    "    acc_val = history.history['val_auc_1']\n",
    "    plt.title('AUC')\n",
    "    plt.xlabel('epochs')\n",
    "    plt.ylabel('AUC')\n",
    "    plt.plot(epochs,acc,c='red',label='training')\n",
    "    plt.plot(epochs,acc_val,c='blue',label='validation')\n",
    "    plt.legend(loc='best')\n",
    "    \n",
    "    plt.show()"
   ]
  },
  {
   "cell_type": "code",
   "execution_count": 40,
   "metadata": {
    "scrolled": true
   },
   "outputs": [
    {
     "data": {
      "image/png": "[encoded data removed]",
      "text/plain": [
       "<Figure size 864x432 with 2 Axes>"
      ]
     },
     "metadata": {
      "needs_background": "light"
     },
     "output_type": "display_data"
    }
   ],
   "source": [
    "plot(history)"
   ]
  },
  {
   "cell_type": "code",
   "execution_count": 41,
   "metadata": {},
   "outputs": [],
   "source": [
    "score_train = model.evaluate(X_train,y_train_oneHot, verbose = 0) "
   ]
  },
  {
   "cell_type": "code",
   "execution_count": 42,
   "metadata": {},
   "outputs": [
    {
     "name": "stdout",
     "output_type": "stream",
     "text": [
      "loss_train:0.38, auc_score_train: 0.91\n"
     ]
    }
   ],
   "source": [
    "print('loss_train:{:.2f}, auc_score_train: {:.2f}' .format(score_train[0],score_train[1]))"
   ]
  },
  {
   "cell_type": "code",
   "execution_count": 43,
   "metadata": {},
   "outputs": [],
   "source": [
    "score_test = model.evaluate(X_test,y_test_oneHot, verbose = 0)"
   ]
  },
  {
   "cell_type": "code",
   "execution_count": 44,
   "metadata": {},
   "outputs": [
    {
     "name": "stdout",
     "output_type": "stream",
     "text": [
      "loss_test:0.42, auc_score_test: 0.89\n"
     ]
    }
   ],
   "source": [
    "print('loss_test:{:.2f}, auc_score_test: {:.2f}' .format(score_test[0],score_test[1]))"
   ]
  },
  {
   "cell_type": "code",
   "execution_count": 45,
   "metadata": {},
   "outputs": [],
   "source": [
    "y_pred = model.predict(X_test)"
   ]
  },
  {
   "cell_type": "code",
   "execution_count": 46,
   "metadata": {},
   "outputs": [],
   "source": [
    "y_pred = np.argmax(y_pred, axis = 1)"
   ]
  },
  {
   "cell_type": "code",
   "execution_count": 47,
   "metadata": {},
   "outputs": [
    {
     "name": "stdout",
     "output_type": "stream",
     "text": [
      "[[8061 2087]\n",
      " [ 404 2648]]\n"
     ]
    }
   ],
   "source": [
    "m = confusion_matrix(y_test,y_pred)\n",
    "print(m)"
   ]
  },
  {
   "cell_type": "code",
   "execution_count": 48,
   "metadata": {},
   "outputs": [
    {
     "name": "stdout",
     "output_type": "stream",
     "text": [
      "              precision    recall  f1-score   support\n",
      "\n",
      "           0       0.95      0.79      0.87     10148\n",
      "           1       0.56      0.87      0.68      3052\n",
      "\n",
      "    accuracy                           0.81     13200\n",
      "   macro avg       0.76      0.83      0.77     13200\n",
      "weighted avg       0.86      0.81      0.82     13200\n",
      "\n"
     ]
    }
   ],
   "source": [
    "r = classification_report(y_test,y_pred)\n",
    "print(r)"
   ]
  },
  {
   "cell_type": "code",
   "execution_count": 49,
   "metadata": {},
   "outputs": [
    {
     "name": "stdout",
     "output_type": "stream",
     "text": [
      "accuracy_score: 0.81\n"
     ]
    }
   ],
   "source": [
    "accuracy = metrics.accuracy_score(y_test,y_pred)\n",
    "print('accuracy_score: {:.2f}' .format(accuracy))"
   ]
  },
  {
   "cell_type": "code",
   "execution_count": 50,
   "metadata": {},
   "outputs": [
    {
     "name": "stdout",
     "output_type": "stream",
     "text": [
      "f1_score: 0.68\n"
     ]
    }
   ],
   "source": [
    "f1 = metrics.f1_score(y_test,y_pred)\n",
    "print('f1_score: {:.2f}' .format(f1))"
   ]
  },
  {
   "cell_type": "code",
   "execution_count": 51,
   "metadata": {},
   "outputs": [
    {
     "name": "stdout",
     "output_type": "stream",
     "text": [
      "auc_score: 0.83\n"
     ]
    }
   ],
   "source": [
    "auc = metrics.roc_auc_score(y_test,y_pred)\n",
    "print('auc_score: {:.2f}' .format(auc))"
   ]
  },
  {
   "cell_type": "code",
   "execution_count": null,
   "metadata": {},
   "outputs": [],
   "source": []
  }
 ],
 "metadata": {
  "kernelspec": {
   "display_name": "Python 3",
   "language": "python",
   "name": "python3"
  },
  "language_info": {
   "codemirror_mode": {
    "name": "ipython",
    "version": 3
   },
   "file_extension": ".py",
   "mimetype": "text/x-python",
   "name": "python",
   "nbconvert_exporter": "python",
   "pygments_lexer": "ipython3",
   "version": "3.7.8"
  }
 },
 "nbformat": 4,
 "nbformat_minor": 4
}
