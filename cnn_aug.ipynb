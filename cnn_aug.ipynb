{
 "cells": [
  {
   "cell_type": "markdown",
   "metadata": {},
   "source": [
    "# CNN sa augmentacijom podataka"
   ]
  },
  {
   "cell_type": "code",
   "execution_count": 2,
   "metadata": {},
   "outputs": [],
   "source": [
    "import cv2\n",
    "import glob\n",
    "import fnmatch\n",
    "import numpy as np\n",
    "import pandas as pd\n",
    "from sklearn import model_selection\n",
    "from sklearn import metrics\n",
    "from sklearn.metrics import classification_report\n",
    "from sklearn.metrics import confusion_matrix\n",
    "from matplotlib import pyplot as plt\n",
    "import random"
   ]
  },
  {
   "cell_type": "code",
   "execution_count": 3,
   "metadata": {},
   "outputs": [],
   "source": [
    "from keras import utils\n",
    "from keras.models import Sequential\n",
    "from keras.layers import Dense,Dropout,Flatten,Conv2D,MaxPooling2D, BatchNormalization\n",
    "from keras.optimizers import Adam\n",
    "from keras.metrics import AUC"
   ]
  },
  {
   "cell_type": "markdown",
   "metadata": {},
   "source": [
    "### Učitavanje  putanja slika"
   ]
  },
  {
   "cell_type": "markdown",
   "metadata": {},
   "source": [
    "Za učitavanje putanja do slika sa kojima radimo koristimo funkciju ***glob***. Kao argumente prosleđujemo putanje\n",
    "(sa wild card karakterima koji zamenjuju bilo koje uzastopne karaktere), i parametar *recursive* koji, kada je postavljen\n",
    "na *True*, omogućava da se pretrga vrši po svim direktorijumima i poddirektorijumima."
   ]
  },
  {
   "cell_type": "code",
   "execution_count": 4,
   "metadata": {},
   "outputs": [],
   "source": [
    "imagePatches = glob.glob('C:/Users/pc/Desktop/data/**/*.png', recursive=True)"
   ]
  },
  {
   "cell_type": "markdown",
   "metadata": {},
   "source": [
    "Odlučili smo da radimo sa skupom od 40 000 slika."
   ]
  },
  {
   "cell_type": "code",
   "execution_count": 5,
   "metadata": {},
   "outputs": [],
   "source": [
    "imagePatches = imagePatches[:40000]"
   ]
  },
  {
   "cell_type": "markdown",
   "metadata": {},
   "source": [
    "Koristimo činjenicu da svaka slika u svojoj putanji ima naznačenu klasu kojoj pripada, \"class0\" za 0, i \"class1\" za 1."
   ]
  },
  {
   "cell_type": "code",
   "execution_count": 6,
   "metadata": {},
   "outputs": [],
   "source": [
    "patternZero = '*class0.png'\n",
    "patternOne = '*class1.png'"
   ]
  },
  {
   "cell_type": "markdown",
   "metadata": {},
   "source": [
    "Funkcija ***fnmatch.filter*** pronalazi sve putanje koje u sebi imaju šablon koji prosleđujemo kao drugi argument. Pomoću nje delimo naše putanje u dve grupe, u zavisnosti od klase."
   ]
  },
  {
   "cell_type": "code",
   "execution_count": 7,
   "metadata": {},
   "outputs": [],
   "source": [
    "classZero = fnmatch.filter(imagePatches, patternZero) \n",
    "classOne = fnmatch.filter(imagePatches, patternOne)"
   ]
  },
  {
   "cell_type": "markdown",
   "metadata": {},
   "source": [
    "Broj instanci negativne (invazivni duktalni karcinom nije detektovan) i pozitivne (invazivni duktalni karcinom je detektovan) klase:"
   ]
  },
  {
   "cell_type": "code",
   "execution_count": 8,
   "metadata": {},
   "outputs": [
    {
     "name": "stdout",
     "output_type": "stream",
     "text": [
      "IDC(-): 30753, IDC(+): 9247\n"
     ]
    }
   ],
   "source": [
    "print('IDC(-): {}, IDC(+): {}' .format(len(classZero), len(classOne)))"
   ]
  },
  {
   "cell_type": "markdown",
   "metadata": {},
   "source": [
    "Pravimo vektor ciljnih promenljivih koji će nam biti potreban za stratifikaciju prilikom deljenja na trening i test skup."
   ]
  },
  {
   "cell_type": "code",
   "execution_count": 9,
   "metadata": {},
   "outputs": [],
   "source": [
    "y = np.zeros(len(imagePatches))\n",
    "for i in range(len(imagePatches)):\n",
    "    if imagePatches[i] in classOne:\n",
    "        y[i] = 1"
   ]
  },
  {
   "cell_type": "code",
   "execution_count": 10,
   "metadata": {},
   "outputs": [
    {
     "data": {
      "text/plain": [
       "array([30753,  9247], dtype=int64)"
      ]
     },
     "execution_count": 10,
     "metadata": {},
     "output_type": "execute_result"
    }
   ],
   "source": [
    "y = y.astype('int64')\n",
    "np.bincount(y)"
   ]
  },
  {
   "cell_type": "markdown",
   "metadata": {},
   "source": [
    "### Podela podataka na train, validacioni i test skup"
   ]
  },
  {
   "cell_type": "code",
   "execution_count": 11,
   "metadata": {},
   "outputs": [],
   "source": [
    "train_val_paths,test_paths,y_train_val,y_test = model_selection.train_test_split(imagePatches, y, test_size = 0.33, random_state = 42, stratify = y)"
   ]
  },
  {
   "cell_type": "code",
   "execution_count": 12,
   "metadata": {},
   "outputs": [
    {
     "name": "stdout",
     "output_type": "stream",
     "text": [
      "train_validation_size: 26800, test_size: 13200 \n"
     ]
    }
   ],
   "source": [
    "print('train_validation_size: {}, test_size: {} ' .format(len(train_val_paths), len(test_paths)))"
   ]
  },
  {
   "cell_type": "code",
   "execution_count": 13,
   "metadata": {},
   "outputs": [
    {
     "name": "stdout",
     "output_type": "stream",
     "text": [
      "TrainVal skup: IDC(-): 20605, IDC(+): 6195\n"
     ]
    }
   ],
   "source": [
    "n = np.bincount(y_train_val)\n",
    "print('TrainVal skup: IDC(-): {}, IDC(+): {}' .format(n[0], n[1]))"
   ]
  },
  {
   "cell_type": "code",
   "execution_count": 14,
   "metadata": {},
   "outputs": [
    {
     "name": "stdout",
     "output_type": "stream",
     "text": [
      "Test skup: IDC(-): 10148, IDC(+): 3052\n"
     ]
    }
   ],
   "source": [
    "n = np.bincount(y_test)\n",
    "print('Test skup: IDC(-): {}, IDC(+): {}' .format(n[0], n[1]))"
   ]
  },
  {
   "cell_type": "markdown",
   "metadata": {},
   "source": [
    "##### Podela train_validation skupa"
   ]
  },
  {
   "cell_type": "code",
   "execution_count": 15,
   "metadata": {},
   "outputs": [],
   "source": [
    "train_paths,val_paths,y_train,y_val = model_selection.train_test_split(train_val_paths, y_train_val, test_size = 0.2, random_state = 42, stratify = y_train_val)"
   ]
  },
  {
   "cell_type": "code",
   "execution_count": 16,
   "metadata": {},
   "outputs": [
    {
     "name": "stdout",
     "output_type": "stream",
     "text": [
      "train_size: 21440, val_size: 5360\n"
     ]
    }
   ],
   "source": [
    "print('train_size: {}, val_size: {}' .format(len(train_paths),len(val_paths)))"
   ]
  },
  {
   "cell_type": "markdown",
   "metadata": {},
   "source": [
    "### Nebalansiranost train skupa"
   ]
  },
  {
   "cell_type": "markdown",
   "metadata": {},
   "source": [
    "U train skupu imamo znatno manji broj instanci pozitivne klase."
   ]
  },
  {
   "cell_type": "code",
   "execution_count": 17,
   "metadata": {
    "scrolled": true
   },
   "outputs": [
    {
     "name": "stdout",
     "output_type": "stream",
     "text": [
      "Train skup: IDC(-): 16484, IDC(+): 4956\n"
     ]
    }
   ],
   "source": [
    "n = np.bincount(y_train)\n",
    "print('Train skup: IDC(-): {}, IDC(+): {}' .format(n[0], n[1]))"
   ]
  },
  {
   "cell_type": "markdown",
   "metadata": {},
   "source": [
    "Isto važi i za validacioni skup."
   ]
  },
  {
   "cell_type": "code",
   "execution_count": 18,
   "metadata": {},
   "outputs": [
    {
     "name": "stdout",
     "output_type": "stream",
     "text": [
      "Validation skup: IDC(-): 4121, IDC(+): 1239\n"
     ]
    }
   ],
   "source": [
    "n = np.bincount(y_val)\n",
    "print('Validation skup: IDC(-): {}, IDC(+): {}' .format(n[0], n[1]))"
   ]
  },
  {
   "cell_type": "code",
   "execution_count": 19,
   "metadata": {},
   "outputs": [],
   "source": [
    "classZeroTrain = fnmatch.filter(train_paths, patternZero) \n",
    "classOneTrain = fnmatch.filter(train_paths, patternOne)"
   ]
  },
  {
   "cell_type": "markdown",
   "metadata": {},
   "source": [
    "Utvrđujemo kolika je razlia između broja instanci negativne i pozitivne klase. Izdvajamo onoliko putanja do pozitivnih instanci kolika je dobijena razlika (broj n). Te putanje smeštamo u skup \"additional_paths\". Izdvajanje mora biti sa ponavljanjem, jer razlika između kardinalnosti klasa može biti veća od kardinalnosti manjinske klase."
   ]
  },
  {
   "cell_type": "code",
   "execution_count": 20,
   "metadata": {},
   "outputs": [],
   "source": [
    "n = len(classZeroTrain) - len(classOneTrain)\n",
    "index = np.random.randint(0, len(classOneTrain), n)\n",
    "classOneTrain = np.array(classOneTrain)\n",
    "additional_paths = classOneTrain[index]"
   ]
  },
  {
   "cell_type": "markdown",
   "metadata": {},
   "source": [
    "### Učitavanje slika"
   ]
  },
  {
   "cell_type": "markdown",
   "metadata": {},
   "source": [
    "##### Train skup"
   ]
  },
  {
   "cell_type": "code",
   "execution_count": 21,
   "metadata": {},
   "outputs": [],
   "source": [
    "width = 50\n",
    "height = 50"
   ]
  },
  {
   "cell_type": "code",
   "execution_count": 22,
   "metadata": {},
   "outputs": [],
   "source": [
    "X_train = []\n",
    "y_train = list(y_train)"
   ]
  },
  {
   "cell_type": "markdown",
   "metadata": {},
   "source": [
    "Učitavamo slike iz nebalansiranog train skupa:"
   ]
  },
  {
   "cell_type": "code",
   "execution_count": 23,
   "metadata": {},
   "outputs": [],
   "source": [
    "for i in range(len(train_paths)):\n",
    "    img = cv2.resize(cv2.imread(train_paths[i]), (width, height), interpolation=cv2.INTER_CUBIC)\n",
    "    X_train.append(img)"
   ]
  },
  {
   "cell_type": "markdown",
   "metadata": {},
   "source": [
    "Nakon toga, za svaku putanju iz additional_paths učitavamo sliku koju dodajemo u train skup, pri tom primenjujući transformacije kao što su rotacija i prevrtanje (flip). Transformaciju koju primenjujemo biramo na slučajan način za svaku sliku, korišćenjem funkcije ***random.randint*** kojom biramo indeks iz liste transformacija:"
   ]
  },
  {
   "cell_type": "code",
   "execution_count": 24,
   "metadata": {},
   "outputs": [],
   "source": [
    "rotate = [cv2.ROTATE_90_CLOCKWISE, cv2.ROTATE_90_COUNTERCLOCKWISE, cv2.ROTATE_180]\n",
    "flip = [0, 1, -1]\n",
    "\n",
    "for i in range(len(additional_paths)):\n",
    "    img = cv2.resize(cv2.imread(additional_paths[i]), (width, height), interpolation=cv2.INTER_CUBIC)\n",
    "    r = np.int(np.random.randint(0,3,1))\n",
    "    f = np.int(np.random.randint(0,3,1))\n",
    "    img = cv2.rotate(img, rotate[r])\n",
    "    img = cv2.flip(img, flip[f])\n",
    "    X_train.append(img)\n",
    "    y_train.append(1)"
   ]
  },
  {
   "cell_type": "markdown",
   "metadata": {},
   "source": [
    "Dodatno mešamo slike, da ne bismo na jednom mestu imali veliki broj instanci pozitivne klase koje smo naknadno dodali:"
   ]
  },
  {
   "cell_type": "code",
   "execution_count": 25,
   "metadata": {},
   "outputs": [],
   "source": [
    "X_train = np.array(X_train)\n",
    "index =  random.sample(list(np.arange(len(X_train))), k = len(X_train))\n",
    "X_train = X_train[index]\n",
    "y_train = np.array(y_train)\n",
    "y_train = y_train[index]"
   ]
  },
  {
   "cell_type": "code",
   "execution_count": 26,
   "metadata": {},
   "outputs": [
    {
     "data": {
      "text/plain": [
       "(32968, 50, 50, 3)"
      ]
     },
     "execution_count": 26,
     "metadata": {},
     "output_type": "execute_result"
    }
   ],
   "source": [
    "X_train.shape"
   ]
  },
  {
   "cell_type": "markdown",
   "metadata": {},
   "source": [
    "Dobili smo balansiran skup."
   ]
  },
  {
   "cell_type": "code",
   "execution_count": 27,
   "metadata": {},
   "outputs": [
    {
     "data": {
      "text/plain": [
       "array([16484, 16484], dtype=int64)"
      ]
     },
     "execution_count": 27,
     "metadata": {},
     "output_type": "execute_result"
    }
   ],
   "source": [
    "np.bincount(y_train)"
   ]
  },
  {
   "cell_type": "markdown",
   "metadata": {},
   "source": [
    "##### Validacioni skup\n"
   ]
  },
  {
   "cell_type": "code",
   "execution_count": 28,
   "metadata": {},
   "outputs": [],
   "source": [
    "# ucitavamo slike validacionog skupa\n",
    "X_val = []\n",
    "\n",
    "for i in range(len(val_paths)):\n",
    "    img = cv2.resize(cv2.imread(val_paths[i]), (width, height), interpolation=cv2.INTER_CUBIC)\n",
    "    X_val.append(img)\n",
    "\n",
    "X_val = np.array(X_val)"
   ]
  },
  {
   "cell_type": "code",
   "execution_count": 29,
   "metadata": {},
   "outputs": [
    {
     "data": {
      "text/plain": [
       "(5360, 50, 50, 3)"
      ]
     },
     "execution_count": 29,
     "metadata": {},
     "output_type": "execute_result"
    }
   ],
   "source": [
    "X_val.shape"
   ]
  },
  {
   "cell_type": "markdown",
   "metadata": {},
   "source": [
    "##### Test skup\n"
   ]
  },
  {
   "cell_type": "code",
   "execution_count": 30,
   "metadata": {},
   "outputs": [],
   "source": [
    "# ucitavamo slike test skupa\n",
    "X_test = []\n",
    "\n",
    "for i in range(len(test_paths)):\n",
    "    img = cv2.resize(cv2.imread(test_paths[i]), (width, height), interpolation=cv2.INTER_CUBIC)\n",
    "    X_test.append(img)\n",
    "    \n",
    "X_test = np.array(X_test)"
   ]
  },
  {
   "cell_type": "code",
   "execution_count": 31,
   "metadata": {},
   "outputs": [
    {
     "data": {
      "text/plain": [
       "(13200, 50, 50, 3)"
      ]
     },
     "execution_count": 31,
     "metadata": {},
     "output_type": "execute_result"
    }
   ],
   "source": [
    "X_test.shape"
   ]
  },
  {
   "cell_type": "markdown",
   "metadata": {},
   "source": [
    "### Normalizacija"
   ]
  },
  {
   "cell_type": "markdown",
   "metadata": {},
   "source": [
    "Svodimo vrednosti svakog piksela u opseg [0,1]"
   ]
  },
  {
   "cell_type": "code",
   "execution_count": 32,
   "metadata": {},
   "outputs": [],
   "source": [
    "X_train = X_train.astype('float32')\n",
    "X_train = X_train/255"
   ]
  },
  {
   "cell_type": "code",
   "execution_count": 33,
   "metadata": {},
   "outputs": [],
   "source": [
    "X_val= X_val.astype('float32')\n",
    "X_val = X_val/255"
   ]
  },
  {
   "cell_type": "code",
   "execution_count": 34,
   "metadata": {},
   "outputs": [],
   "source": [
    "X_test = X_test.astype('float32')\n",
    "X_test = X_test/255"
   ]
  },
  {
   "cell_type": "markdown",
   "metadata": {},
   "source": [
    "### Kreiranje i treniranje mreže "
   ]
  },
  {
   "cell_type": "code",
   "execution_count": 35,
   "metadata": {},
   "outputs": [
    {
     "name": "stdout",
     "output_type": "stream",
     "text": [
      "Model: \"sequential\"\n",
      "_________________________________________________________________\n",
      "Layer (type)                 Output Shape              Param #   \n",
      "=================================================================\n",
      "conv2d (Conv2D)              (None, 50, 50, 32)        896       \n",
      "_________________________________________________________________\n",
      "max_pooling2d (MaxPooling2D) (None, 25, 25, 32)        0         \n",
      "_________________________________________________________________\n",
      "conv2d_1 (Conv2D)            (None, 25, 25, 64)        18496     \n",
      "_________________________________________________________________\n",
      "max_pooling2d_1 (MaxPooling2 (None, 12, 12, 64)        0         \n",
      "_________________________________________________________________\n",
      "flatten (Flatten)            (None, 9216)              0         \n",
      "_________________________________________________________________\n",
      "dense (Dense)                (None, 128)               1179776   \n",
      "_________________________________________________________________\n",
      "dropout (Dropout)            (None, 128)               0         \n",
      "_________________________________________________________________\n",
      "dense_1 (Dense)              (None, 1)                 129       \n",
      "=================================================================\n",
      "Total params: 1,199,297\n",
      "Trainable params: 1,199,297\n",
      "Non-trainable params: 0\n",
      "_________________________________________________________________\n"
     ]
    }
   ],
   "source": [
    "input_shape = (50,50,3)\n",
    "\n",
    "model = Sequential()\n",
    "model.add(Conv2D(32, kernel_size=(3, 3), strides=(1, 1), padding='same', activation='relu', input_shape=input_shape))\n",
    "model.add(MaxPooling2D(pool_size=(2, 2)))\n",
    "model.add(Conv2D(64, (3, 3), strides=(1, 1), padding='same', activation='relu'))\n",
    "model.add(MaxPooling2D(pool_size=(2, 2)))\n",
    "model.add(Flatten())\n",
    "model.add(Dense(128, activation='relu'))\n",
    "model.add(Dropout(0.25))\n",
    "model.add(Dense(1, activation='sigmoid'))\n",
    "\n",
    "model.summary()\n",
    "\n",
    "model.compile(loss='binary_crossentropy', optimizer=Adam(learning_rate = 1e-5), metrics = [AUC(name = 'auc')])"
   ]
  },
  {
   "cell_type": "code",
   "execution_count": 36,
   "metadata": {},
   "outputs": [
    {
     "name": "stdout",
     "output_type": "stream",
     "text": [
      "Epoch 1/30\n",
      "516/516 [==============================] - 95s 184ms/step - loss: 0.5734 - auc: 0.8310 - val_loss: 0.5046 - val_auc: 0.8793\n",
      "Epoch 2/30\n",
      "516/516 [==============================] - 93s 181ms/step - loss: 0.4512 - auc: 0.8764 - val_loss: 0.4258 - val_auc: 0.8845\n",
      "Epoch 3/30\n",
      "516/516 [==============================] - 94s 182ms/step - loss: 0.4345 - auc: 0.8820 - val_loss: 0.4345 - val_auc: 0.8883\n",
      "Epoch 4/30\n",
      "516/516 [==============================] - 99s 191ms/step - loss: 0.4289 - auc: 0.8848 - val_loss: 0.4445 - val_auc: 0.8901\n",
      "Epoch 5/30\n",
      "516/516 [==============================] - 102s 198ms/step - loss: 0.4256 - auc: 0.8863 - val_loss: 0.4219 - val_auc: 0.8914\n",
      "Epoch 6/30\n",
      "516/516 [==============================] - 106s 206ms/step - loss: 0.4223 - auc: 0.8881 - val_loss: 0.4035 - val_auc: 0.8924\n",
      "Epoch 7/30\n",
      "516/516 [==============================] - 114s 222ms/step - loss: 0.4204 - auc: 0.8890 - val_loss: 0.4429 - val_auc: 0.8933\n",
      "Epoch 8/30\n",
      "516/516 [==============================] - 109s 212ms/step - loss: 0.4183 - auc: 0.8901 - val_loss: 0.4124 - val_auc: 0.8942\n",
      "Epoch 9/30\n",
      "516/516 [==============================] - 114s 221ms/step - loss: 0.4162 - auc: 0.8915 - val_loss: 0.3751 - val_auc: 0.8944\n",
      "Epoch 10/30\n",
      "516/516 [==============================] - 116s 225ms/step - loss: 0.4143 - auc: 0.8923 - val_loss: 0.4527 - val_auc: 0.8957\n",
      "Epoch 11/30\n",
      "516/516 [==============================] - 115s 222ms/step - loss: 0.4133 - auc: 0.8929 - val_loss: 0.3905 - val_auc: 0.8960\n",
      "Epoch 12/30\n",
      "516/516 [==============================] - 114s 220ms/step - loss: 0.4110 - auc: 0.8941 - val_loss: 0.3963 - val_auc: 0.8967\n",
      "Epoch 13/30\n",
      "516/516 [==============================] - 117s 226ms/step - loss: 0.4102 - auc: 0.8944 - val_loss: 0.4187 - val_auc: 0.8978\n",
      "Epoch 14/30\n",
      "516/516 [==============================] - 118s 229ms/step - loss: 0.4076 - auc: 0.8961 - val_loss: 0.4525 - val_auc: 0.8982\n",
      "Epoch 15/30\n",
      "516/516 [==============================] - 119s 230ms/step - loss: 0.4064 - auc: 0.8964 - val_loss: 0.4191 - val_auc: 0.8989\n",
      "Epoch 16/30\n",
      "516/516 [==============================] - 113s 219ms/step - loss: 0.4052 - auc: 0.8970 - val_loss: 0.4251 - val_auc: 0.8996\n",
      "Epoch 17/30\n",
      "516/516 [==============================] - 119s 230ms/step - loss: 0.4033 - auc: 0.8981 - val_loss: 0.3997 - val_auc: 0.8995\n",
      "Epoch 18/30\n",
      "516/516 [==============================] - 118s 228ms/step - loss: 0.4029 - auc: 0.8980 - val_loss: 0.4141 - val_auc: 0.9002\n",
      "Epoch 19/30\n",
      "516/516 [==============================] - 116s 226ms/step - loss: 0.4008 - auc: 0.8994 - val_loss: 0.4270 - val_auc: 0.9008\n",
      "Epoch 20/30\n",
      "516/516 [==============================] - 119s 230ms/step - loss: 0.3997 - auc: 0.8999 - val_loss: 0.4186 - val_auc: 0.9007\n",
      "Epoch 21/30\n",
      "516/516 [==============================] - 117s 226ms/step - loss: 0.3989 - auc: 0.9002 - val_loss: 0.3938 - val_auc: 0.9006\n",
      "Epoch 22/30\n",
      "516/516 [==============================] - 121s 235ms/step - loss: 0.3986 - auc: 0.9004 - val_loss: 0.4088 - val_auc: 0.9015\n",
      "Epoch 23/30\n",
      "516/516 [==============================] - 116s 225ms/step - loss: 0.3977 - auc: 0.9007 - val_loss: 0.4075 - val_auc: 0.9023\n",
      "Epoch 24/30\n",
      "516/516 [==============================] - 114s 220ms/step - loss: 0.3953 - auc: 0.9022 - val_loss: 0.4371 - val_auc: 0.9026\n",
      "Epoch 25/30\n",
      "516/516 [==============================] - 116s 225ms/step - loss: 0.3951 - auc: 0.9020 - val_loss: 0.3747 - val_auc: 0.9027\n",
      "Epoch 26/30\n",
      "516/516 [==============================] - 118s 228ms/step - loss: 0.3937 - auc: 0.9028 - val_loss: 0.4084 - val_auc: 0.9032\n",
      "Epoch 27/30\n",
      "516/516 [==============================] - 116s 225ms/step - loss: 0.3929 - auc: 0.9032 - val_loss: 0.4040 - val_auc: 0.9035\n",
      "Epoch 28/30\n",
      "516/516 [==============================] - 113s 218ms/step - loss: 0.3920 - auc: 0.9037 - val_loss: 0.3953 - val_auc: 0.9036\n",
      "Epoch 29/30\n",
      "516/516 [==============================] - 118s 230ms/step - loss: 0.3909 - auc: 0.9042 - val_loss: 0.4106 - val_auc: 0.9044\n",
      "Epoch 30/30\n",
      "516/516 [==============================] - 118s 228ms/step - loss: 0.3900 - auc: 0.9047 - val_loss: 0.3810 - val_auc: 0.9042\n"
     ]
    }
   ],
   "source": [
    "batch_size = 64\n",
    "epochs = 30\n",
    "history = model.fit(X_train, y_train, epochs = epochs, batch_size = batch_size, validation_data = (X_val, y_val))"
   ]
  },
  {
   "cell_type": "code",
   "execution_count": 37,
   "metadata": {},
   "outputs": [
    {
     "data": {
      "text/plain": [
       "['loss', 'auc']"
      ]
     },
     "execution_count": 37,
     "metadata": {},
     "output_type": "execute_result"
    }
   ],
   "source": [
    "model.metrics_names"
   ]
  },
  {
   "cell_type": "code",
   "execution_count": 38,
   "metadata": {},
   "outputs": [],
   "source": [
    "def plot(history):\n",
    "    plt.figure(figsize=(12, 6))\n",
    "    plt.subplot(1, 2, 1)\n",
    "    \n",
    "    epochs = history.epoch\n",
    "    loss = history.history['loss']\n",
    "    validation_loss = history.history['val_loss']\n",
    "    plt.title('LOSS')\n",
    "    plt.xlabel('epochs')\n",
    "    plt.ylabel('loss')\n",
    "    plt.plot(epochs,loss,c='red',label='training')\n",
    "    plt.plot(epochs,validation_loss,c='blue',label='validation')\n",
    "    plt.legend(loc='best')\n",
    "    \n",
    "    plt.subplot(1, 2, 2)\n",
    "    \n",
    "    acc = history.history['auc']\n",
    "    acc_val = history.history['val_auc']\n",
    "    plt.title('AUC')\n",
    "    plt.xlabel('epochs')\n",
    "    plt.ylabel('AUC')\n",
    "    plt.plot(epochs,acc,c='red',label='training')\n",
    "    plt.plot(epochs,acc_val,c='blue',label='validation')\n",
    "    plt.legend(loc='best')\n",
    "    \n",
    "    plt.show()"
   ]
  },
  {
   "cell_type": "code",
   "execution_count": 39,
   "metadata": {},
   "outputs": [
    {
     "data": {
      "image/png": "[encoded data removed]",
      "text/plain": [
       "<Figure size 864x432 with 2 Axes>"
      ]
     },
     "metadata": {
      "needs_background": "light"
     },
     "output_type": "display_data"
    }
   ],
   "source": [
    "plot(history)"
   ]
  },
  {
   "cell_type": "code",
   "execution_count": null,
   "metadata": {},
   "outputs": [],
   "source": []
  }
 ],
 "metadata": {
  "kernelspec": {
   "display_name": "Python 3",
   "language": "python",
   "name": "python3"
  },
  "language_info": {
   "codemirror_mode": {
    "name": "ipython",
    "version": 3
   },
   "file_extension": ".py",
   "mimetype": "text/x-python",
   "name": "python",
   "nbconvert_exporter": "python",
   "pygments_lexer": "ipython3",
   "version": "3.7.8"
  }
 },
 "nbformat": 4,
 "nbformat_minor": 4
}
