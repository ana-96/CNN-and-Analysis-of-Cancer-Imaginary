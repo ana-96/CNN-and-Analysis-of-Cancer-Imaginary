{
 "cells": [
  {
   "cell_type": "markdown",
   "metadata": {},
   "source": [
    "# CNN sa generatorom i augmentacijom podataka"
   ]
  },
  {
   "cell_type": "code",
   "execution_count": 47,
   "metadata": {},
   "outputs": [],
   "source": [
    "import os\n",
    "import cv2\n",
    "import glob\n",
    "import fnmatch\n",
    "import numpy as np\n",
    "import pandas as pd\n",
    "from sklearn import model_selection\n",
    "from sklearn import metrics\n",
    "from sklearn.metrics import classification_report\n",
    "from sklearn.metrics import confusion_matrix\n",
    "from matplotlib import pyplot as plt\n",
    "import imblearn\n",
    "import random\n",
    "import seaborn as sns # Paket za crtanje countplotova(vizuelno predstavljanje klasa kod nebalansiranosti)"
   ]
  },
  {
   "cell_type": "code",
   "execution_count": 3,
   "metadata": {},
   "outputs": [],
   "source": [
    "from keras import utils\n",
    "from keras import backend as K\n",
    "from keras.models import Sequential\n",
    "from keras.layers import Dense,Dropout,Flatten,Conv2D,MaxPooling2D\n",
    "from keras.optimizers import Adam"
   ]
  },
  {
   "cell_type": "code",
   "execution_count": 116,
   "metadata": {},
   "outputs": [],
   "source": [
    "def plot(history):\n",
    "    plt.figure(figsize=(12, 6))\n",
    "    plt.subplot(1, 2, 1)\n",
    "    \n",
    "    epochs = history.epoch\n",
    "    loss = history.history['loss']\n",
    "    validation_loss = history.history['val_loss']\n",
    "    plt.title('LOSS')\n",
    "    plt.xlabel('epochs')\n",
    "    plt.ylabel('loss')\n",
    "    plt.plot(epochs,loss,c='red',label='training')\n",
    "    plt.plot(epochs,validation_loss,c='blue',label='validation')\n",
    "    plt.legend(loc='best')\n",
    "    \n",
    "    plt.subplot(1, 2, 2)\n",
    "    \n",
    "    acc = history.history['f1_m']\n",
    "    acc_val = history.history['val_f1_m']\n",
    "    plt.title('F1')\n",
    "    plt.xlabel('epochs')\n",
    "    plt.ylabel('f1')\n",
    "    plt.plot(epochs,acc,c='red',label='training')\n",
    "    plt.plot(epochs,acc_val,c='blue',label='validation')\n",
    "    plt.legend(loc='best')\n",
    "    \n",
    "    plt.show()"
   ]
  },
  {
   "cell_type": "markdown",
   "metadata": {},
   "source": [
    "### Učitavanje podataka"
   ]
  },
  {
   "cell_type": "code",
   "execution_count": 7,
   "metadata": {},
   "outputs": [],
   "source": [
    "imagePatches = glob.glob('C:/Users/pc/Desktop/data/**/*.png', recursive=True)"
   ]
  },
  {
   "cell_type": "code",
   "execution_count": 8,
   "metadata": {},
   "outputs": [],
   "source": [
    "imagePatches = imagePatches[:40000]"
   ]
  },
  {
   "cell_type": "code",
   "execution_count": null,
   "metadata": {},
   "outputs": [],
   "source": [
    "len(imagePatches)"
   ]
  },
  {
   "cell_type": "code",
   "execution_count": 10,
   "metadata": {},
   "outputs": [],
   "source": [
    "patternZero = '*class0.png'\n",
    "patternOne = '*class1.png'"
   ]
  },
  {
   "cell_type": "code",
   "execution_count": 11,
   "metadata": {},
   "outputs": [],
   "source": [
    "classZero = fnmatch.filter(imagePatches, patternZero) \n",
    "classOne = fnmatch.filter(imagePatches, patternOne)"
   ]
  },
  {
   "cell_type": "code",
   "execution_count": 12,
   "metadata": {},
   "outputs": [
    {
     "name": "stdout",
     "output_type": "stream",
     "text": [
      "IDC(-):30753, IDC(+):9247\n"
     ]
    }
   ],
   "source": [
    "print('IDC(-):{}, IDC(+):{}'.format(len(classZero), len(classOne)))"
   ]
  },
  {
   "cell_type": "code",
   "execution_count": 13,
   "metadata": {},
   "outputs": [],
   "source": [
    "labels = np.zeros(len(imagePatches))\n",
    "for i in range(len(imagePatches)):\n",
    "    if imagePatches[i] in classZero:\n",
    "        labels[i] = 1\n",
    "    else:\n",
    "        labels[i] = 0"
   ]
  },
  {
   "cell_type": "code",
   "execution_count": 14,
   "metadata": {},
   "outputs": [],
   "source": [
    "train_val_paths, test_paths, labels_train_val, labels_test = model_selection.train_test_split(imagePatches, labels, test_size = 0.33, random_state = 42, stratify=labels)"
   ]
  },
  {
   "cell_type": "code",
   "execution_count": 15,
   "metadata": {},
   "outputs": [
    {
     "name": "stdout",
     "output_type": "stream",
     "text": [
      "train_validation_size:26800, test_size:13200\n"
     ]
    }
   ],
   "source": [
    "print('train_validation_size:{}, test_size:{}'.format(len(train_val_paths), len(test_paths)))"
   ]
  },
  {
   "cell_type": "code",
   "execution_count": 36,
   "metadata": {},
   "outputs": [
    {
     "name": "stdout",
     "output_type": "stream",
     "text": [
      "TrainVal skup: IDC(-):20605, IDC(+):6195\n"
     ]
    }
   ],
   "source": [
    "classZeroTrainVal = fnmatch.filter(train_val_paths, patternZero) \n",
    "classOneTrainVal = fnmatch.filter(train_val_paths, patternOne)\n",
    "print('TrainVal skup: IDC(-):{}, IDC(+):{}'.format(len(classZeroTrainVal), len(classOneTrainVal)))"
   ]
  },
  {
   "cell_type": "code",
   "execution_count": 27,
   "metadata": {},
   "outputs": [
    {
     "name": "stdout",
     "output_type": "stream",
     "text": [
      "Test skup:  IDC(-):10148, IDC(+):3052\n"
     ]
    }
   ],
   "source": [
    "classZeroTest = fnmatch.filter(test_paths, patternZero) \n",
    "classOneTest = fnmatch.filter(test_paths, patternOne)\n",
    "print('Test skup:  IDC(-):{}, IDC(+):{}'.format(len(classZeroTest), len(classOneTest)))"
   ]
  },
  {
   "cell_type": "code",
   "execution_count": 30,
   "metadata": {},
   "outputs": [],
   "source": [
    "# učitavamo sike test skupa jer će biti potrebne za predviđanje\n",
    "width = 50\n",
    "height = 50\n",
    "X_test = []\n",
    "y_test = []\n",
    "for i in range(len(test_paths)):\n",
    "    X_test.append(cv2.resize(cv2.imread(test_paths[i]), (width, height), interpolation=cv2.INTER_CUBIC))\n",
    "    if test_paths[i] in classOneTest:\n",
    "        y_test.append(1)\n",
    "    else:\n",
    "        y_test.append(0)"
   ]
  },
  {
   "cell_type": "code",
   "execution_count": 31,
   "metadata": {},
   "outputs": [],
   "source": [
    "X_test = np.array(X_test)\n",
    "X_test = X_test/255"
   ]
  },
  {
   "cell_type": "code",
   "execution_count": 32,
   "metadata": {},
   "outputs": [
    {
     "data": {
      "text/plain": [
       "(13200, 50, 50, 3)"
      ]
     },
     "execution_count": 32,
     "metadata": {},
     "output_type": "execute_result"
    }
   ],
   "source": [
    "X_test.shape"
   ]
  },
  {
   "cell_type": "markdown",
   "metadata": {},
   "source": [
    "### Podela podataka na train,validacioni i test skup"
   ]
  },
  {
   "cell_type": "code",
   "execution_count": 33,
   "metadata": {},
   "outputs": [],
   "source": [
    "train_paths, val_paths = model_selection.train_test_split(train_val_paths, test_size = 0.2, random_state = 42, stratify=labels_train_val)"
   ]
  },
  {
   "cell_type": "code",
   "execution_count": 37,
   "metadata": {},
   "outputs": [
    {
     "name": "stdout",
     "output_type": "stream",
     "text": [
      "Train skup:  IDC(-):16484, IDC(+):4956\n"
     ]
    }
   ],
   "source": [
    "classZeroTrain = fnmatch.filter(train_paths, patternZero) \n",
    "classOneTrain = fnmatch.filter(train_paths, patternOne)\n",
    "print('Train skup:  IDC(-):{}, IDC(+):{}'.format(len(classZeroTrain), len(classOneTrain)))"
   ]
  },
  {
   "cell_type": "code",
   "execution_count": 39,
   "metadata": {},
   "outputs": [
    {
     "name": "stdout",
     "output_type": "stream",
     "text": [
      "Val skup:  IDC(-):4121, IDC(+):1239\n"
     ]
    }
   ],
   "source": [
    "classZeroVal = fnmatch.filter(val_paths, patternZero) \n",
    "classOneVal = fnmatch.filter(val_paths, patternOne)\n",
    "print('Val skup:  IDC(-):{}, IDC(+):{}'.format(len(classZeroVal), len(classOneVal)))"
   ]
  },
  {
   "cell_type": "markdown",
   "metadata": {},
   "source": [
    "### Kreiranje generatora"
   ]
  },
  {
   "cell_type": "code",
   "execution_count": 99,
   "metadata": {},
   "outputs": [],
   "source": [
    "def generator(paths, batch_size, width, height, n_classes):\n",
    "    \n",
    "    patternZero = '*class0.png'\n",
    "    patternOne = '*class1.png'\n",
    "    classZero = fnmatch.filter(paths, patternZero) \n",
    "    classOne = fnmatch.filter(paths, patternOne)\n",
    "    \n",
    "    \n",
    "    while True:\n",
    "\n",
    "    \n",
    "        # mesacemo indekse da bi nam se batch-evi medjusobno razlikovali\n",
    "        # ovde bi trebalo funkcija koja bira bez ponavljanja, ja sam pokusala sample i choise ali nisu radile\n",
    "        indices = np.random.randint(0, len(paths)-1, size = batch_size) \n",
    "        X = []\n",
    "        y = [] \n",
    "        \n",
    "        for i in indices:\n",
    "            X.append(cv2.resize(cv2.imread(paths[i]), (width, height), interpolation=cv2.INTER_CUBIC))\n",
    "            if paths[i] in classOne:\n",
    "                y.append(1)\n",
    "            else:\n",
    "                y.append(0)\n",
    " \n",
    "        \n",
    "        numZero = len(classZero)\n",
    "        numOne = len(classOne)\n",
    "        if(paths=='train_paths'):\n",
    "            if(numZero!=numOne):\n",
    "                n = numZero-numOne\n",
    "                index = np.random.randint(0, numOne, size=n)\n",
    "                pathOne = classOne[index]\n",
    "                for j in range(n):\n",
    "                    img = cv2.resize(cv2.imread(pathOne[j]), (width, height), interpolation=cv2.INTER_CUBIC)\n",
    "                    img = cv2.rotate(img, cv2.ROTATE_90_CLOCKWISE)\n",
    "                    img = cv2.flip(img, -1)\n",
    "                    X.append(img)\n",
    "                    y.append(1)\n",
    "        # ovo je pod komentarom jer je prijavljivalo gresku a nisam mogla da resim                   \n",
    "        #index = np.arange(2*numZero)\n",
    "        #index = np.random.shuffle(index)           \n",
    "        #X = X[index]\n",
    "        #y = y[index]\n",
    "        \n",
    "\n",
    "        \n",
    "        X = np.array(X)\n",
    "        y = np.array(y)  \n",
    "        \n",
    "        X = X.astype('float32')\n",
    "        X = X/255\n",
    "        \n",
    "        yield X, utils.to_categorical(y, num_classes = n_classes)"
   ]
  },
  {
   "cell_type": "markdown",
   "metadata": {},
   "source": [
    "### Kreiranje i treniranje mreže "
   ]
  },
  {
   "cell_type": "code",
   "execution_count": 100,
   "metadata": {},
   "outputs": [],
   "source": [
    "def recall_m(y_true, y_pred):\n",
    "    true_positives = K.sum(K.round(K.clip(y_true * y_pred, 0, 1)))\n",
    "    possible_positives = K.sum(K.round(K.clip(y_true, 0, 1)))\n",
    "    recall = true_positives / (possible_positives + K.epsilon())\n",
    "    return recall\n",
    "\n",
    "def precision_m(y_true, y_pred):\n",
    "    true_positives = K.sum(K.round(K.clip(y_true * y_pred, 0, 1)))\n",
    "    predicted_positives = K.sum(K.round(K.clip(y_pred, 0, 1)))\n",
    "    precision = true_positives / (predicted_positives + K.epsilon())\n",
    "    return precision\n",
    "\n",
    "def f1_m(y_true, y_pred):\n",
    "    precision = precision_m(y_true, y_pred)\n",
    "    recall = recall_m(y_true, y_pred)\n",
    "    return 2*((precision*recall)/(precision+recall+K.epsilon()))"
   ]
  },
  {
   "cell_type": "code",
   "execution_count": 101,
   "metadata": {},
   "outputs": [],
   "source": [
    "width = 50\n",
    "height = 50\n",
    "batch_size = 64\n",
    "n_classes = 2"
   ]
  },
  {
   "cell_type": "code",
   "execution_count": 102,
   "metadata": {},
   "outputs": [],
   "source": [
    "train_gen = generator(train_paths, batch_size = batch_size, width = width, height = height, n_classes = n_classes)\n",
    "val_gen = generator(val_paths, batch_size = batch_size, width = width, height = height, n_classes = n_classes)\n",
    "test_gen = generator(test_paths, batch_size = batch_size, width = width, height = height, n_classes = n_classes)"
   ]
  },
  {
   "cell_type": "code",
   "execution_count": 103,
   "metadata": {},
   "outputs": [
    {
     "name": "stdout",
     "output_type": "stream",
     "text": [
      "Model: \"sequential_9\"\n",
      "_________________________________________________________________\n",
      "Layer (type)                 Output Shape              Param #   \n",
      "=================================================================\n",
      "conv2d_17 (Conv2D)           (None, 50, 50, 32)        896       \n",
      "_________________________________________________________________\n",
      "conv2d_18 (Conv2D)           (None, 50, 50, 64)        18496     \n",
      "_________________________________________________________________\n",
      "max_pooling2d_9 (MaxPooling2 (None, 25, 25, 64)        0         \n",
      "_________________________________________________________________\n",
      "dropout_17 (Dropout)         (None, 25, 25, 64)        0         \n",
      "_________________________________________________________________\n",
      "flatten_9 (Flatten)          (None, 40000)             0         \n",
      "_________________________________________________________________\n",
      "dense_17 (Dense)             (None, 128)               5120128   \n",
      "_________________________________________________________________\n",
      "dropout_18 (Dropout)         (None, 128)               0         \n",
      "_________________________________________________________________\n",
      "dense_18 (Dense)             (None, 2)                 258       \n",
      "=================================================================\n",
      "Total params: 5,139,778\n",
      "Trainable params: 5,139,778\n",
      "Non-trainable params: 0\n",
      "_________________________________________________________________\n"
     ]
    }
   ],
   "source": [
    "input_shape = (50,50,3)\n",
    "\n",
    "model = Sequential()\n",
    "model.add(Conv2D(32, kernel_size=(3, 3), strides=(1, 1), padding='same', activation='relu', input_shape=input_shape))\n",
    "model.add(Conv2D(64, (3, 3), strides=(1, 1), padding='same', activation='relu'))\n",
    "model.add(MaxPooling2D(pool_size=(2, 2)))\n",
    "model.add(Dropout(0.25))\n",
    "model.add(Flatten())\n",
    "model.add(Dense(128, activation='relu'))\n",
    "model.add(Dropout(0.5))\n",
    "model.add(Dense(n_classes, activation='softmax'))\n",
    "\n",
    "model.summary()\n",
    "\n",
    "model.compile(loss='categorical_crossentropy', optimizer=Adam(learning_rate=0.001), metrics=[f1_m])"
   ]
  },
  {
   "cell_type": "code",
   "execution_count": 104,
   "metadata": {},
   "outputs": [],
   "source": [
    "epochs = 25\n",
    "steps_per_epoch = len(train_paths)//batch_size\n",
    "val_steps = len(val_paths)//batch_size\n",
    "test_steps = len(test_paths)//batch_size"
   ]
  },
  {
   "cell_type": "code",
   "execution_count": 106,
   "metadata": {},
   "outputs": [
    {
     "name": "stdout",
     "output_type": "stream",
     "text": [
      "Epoch 1/25\n",
      "335/335 [==============================] - 217s 646ms/step - loss: 0.3523 - f1_m: 0.8490 - val_loss: 0.4404 - val_f1_m: 0.8532\n",
      "Epoch 2/25\n",
      "335/335 [==============================] - 219s 655ms/step - loss: 0.3380 - f1_m: 0.8528 - val_loss: 0.3149 - val_f1_m: 0.8577\n",
      "Epoch 3/25\n",
      "335/335 [==============================] - 237s 708ms/step - loss: 0.3363 - f1_m: 0.8564 - val_loss: 0.4481 - val_f1_m: 0.8485\n",
      "Epoch 4/25\n",
      "335/335 [==============================] - 231s 689ms/step - loss: 0.3225 - f1_m: 0.8593 - val_loss: 0.2526 - val_f1_m: 0.8520\n",
      "Epoch 5/25\n",
      "335/335 [==============================] - 231s 691ms/step - loss: 0.3063 - f1_m: 0.8687 - val_loss: 0.1884 - val_f1_m: 0.8586\n",
      "Epoch 6/25\n",
      "335/335 [==============================] - 240s 715ms/step - loss: 0.2861 - f1_m: 0.8752 - val_loss: 0.3170 - val_f1_m: 0.8567\n",
      "Epoch 7/25\n",
      "335/335 [==============================] - 249s 743ms/step - loss: 0.2714 - f1_m: 0.8836 - val_loss: 0.3543 - val_f1_m: 0.8464\n",
      "Epoch 8/25\n",
      "335/335 [==============================] - 234s 698ms/step - loss: 0.2645 - f1_m: 0.8863 - val_loss: 0.3593 - val_f1_m: 0.8505\n",
      "Epoch 9/25\n",
      "335/335 [==============================] - 247s 738ms/step - loss: 0.2505 - f1_m: 0.8902 - val_loss: 0.2966 - val_f1_m: 0.8613\n",
      "Epoch 10/25\n",
      "335/335 [==============================] - 246s 735ms/step - loss: 0.2306 - f1_m: 0.9020 - val_loss: 0.3246 - val_f1_m: 0.8524\n",
      "Epoch 11/25\n",
      "335/335 [==============================] - 247s 736ms/step - loss: 0.2129 - f1_m: 0.9094 - val_loss: 0.3688 - val_f1_m: 0.8513\n",
      "Epoch 12/25\n",
      "335/335 [==============================] - 229s 683ms/step - loss: 0.2081 - f1_m: 0.9130 - val_loss: 0.3896 - val_f1_m: 0.8417\n",
      "Epoch 13/25\n",
      "335/335 [==============================] - 237s 708ms/step - loss: 0.1786 - f1_m: 0.9275 - val_loss: 0.6404 - val_f1_m: 0.8522\n",
      "Epoch 14/25\n",
      "335/335 [==============================] - 232s 691ms/step - loss: 0.1629 - f1_m: 0.9358 - val_loss: 0.3902 - val_f1_m: 0.8483\n",
      "Epoch 15/25\n",
      "335/335 [==============================] - 227s 677ms/step - loss: 0.1527 - f1_m: 0.9390 - val_loss: 0.4087 - val_f1_m: 0.8458\n",
      "Epoch 16/25\n",
      "335/335 [==============================] - 231s 690ms/step - loss: 0.1446 - f1_m: 0.9442 - val_loss: 0.4355 - val_f1_m: 0.8462\n",
      "Epoch 17/25\n",
      "335/335 [==============================] - 231s 688ms/step - loss: 0.1361 - f1_m: 0.9462 - val_loss: 0.3630 - val_f1_m: 0.8502\n",
      "Epoch 18/25\n",
      "335/335 [==============================] - 226s 674ms/step - loss: 0.1201 - f1_m: 0.9526 - val_loss: 0.3014 - val_f1_m: 0.8496\n",
      "Epoch 19/25\n",
      "335/335 [==============================] - 236s 703ms/step - loss: 0.1144 - f1_m: 0.9567 - val_loss: 0.5053 - val_f1_m: 0.8430\n",
      "Epoch 20/25\n",
      "335/335 [==============================] - 240s 717ms/step - loss: 0.1024 - f1_m: 0.9609 - val_loss: 0.6227 - val_f1_m: 0.8404\n",
      "Epoch 21/25\n",
      "335/335 [==============================] - 232s 693ms/step - loss: 0.0974 - f1_m: 0.9628 - val_loss: 0.8712 - val_f1_m: 0.8547\n",
      "Epoch 22/25\n",
      "335/335 [==============================] - 234s 699ms/step - loss: 0.0959 - f1_m: 0.9643 - val_loss: 0.6131 - val_f1_m: 0.8488\n",
      "Epoch 23/25\n",
      "335/335 [==============================] - 226s 675ms/step - loss: 0.0888 - f1_m: 0.9673 - val_loss: 0.4565 - val_f1_m: 0.8502\n",
      "Epoch 24/25\n",
      "335/335 [==============================] - 237s 707ms/step - loss: 0.0894 - f1_m: 0.9674 - val_loss: 0.5988 - val_f1_m: 0.8345\n",
      "Epoch 25/25\n",
      "335/335 [==============================] - 233s 696ms/step - loss: 0.0822 - f1_m: 0.9689 - val_loss: 1.5886 - val_f1_m: 0.8462\n"
     ]
    }
   ],
   "source": [
    "history = model.fit_generator(train_gen, epochs = epochs, steps_per_epoch = steps_per_epoch, validation_data=val_gen, validation_steps=val_steps)"
   ]
  },
  {
   "cell_type": "markdown",
   "metadata": {},
   "source": [
    "### Evaluacija mreže "
   ]
  },
  {
   "cell_type": "code",
   "execution_count": 107,
   "metadata": {},
   "outputs": [
    {
     "data": {
      "text/plain": [
       "['loss', 'f1_m']"
      ]
     },
     "execution_count": 107,
     "metadata": {},
     "output_type": "execute_result"
    }
   ],
   "source": [
    "model.metrics_names"
   ]
  },
  {
   "cell_type": "code",
   "execution_count": 109,
   "metadata": {},
   "outputs": [],
   "source": [
    "score_train = model.evaluate_generator(train_gen, steps = steps_per_epoch, verbose = 0) "
   ]
  },
  {
   "cell_type": "code",
   "execution_count": 111,
   "metadata": {},
   "outputs": [
    {
     "name": "stdout",
     "output_type": "stream",
     "text": [
      "loss_train:0.04, f1_score_train: 0.99\n"
     ]
    }
   ],
   "source": [
    "print('loss_train:{:.2f}, f1_score_train: {:.2f}' .format(score_train[0],score_train[1]))"
   ]
  },
  {
   "cell_type": "code",
   "execution_count": 112,
   "metadata": {},
   "outputs": [],
   "source": [
    "score_test = model.evaluate_generator(test_gen, steps = test_steps, verbose = 0)"
   ]
  },
  {
   "cell_type": "code",
   "execution_count": 113,
   "metadata": {},
   "outputs": [
    {
     "name": "stdout",
     "output_type": "stream",
     "text": [
      "loss_test:0.54, f1_score_test: 0.54\n"
     ]
    }
   ],
   "source": [
    "print('loss_test:{:.2f}, f1_score_test: {:.2f}' .format(score_test[0],score_test[0]))"
   ]
  },
  {
   "cell_type": "code",
   "execution_count": 117,
   "metadata": {},
   "outputs": [
    {
     "data": {
      "image/png": "[encoded data removed]",
      "text/plain": [
       "<Figure size 864x432 with 2 Axes>"
      ]
     },
     "metadata": {
      "needs_background": "light"
     },
     "output_type": "display_data"
    }
   ],
   "source": [
    "plot(history)"
   ]
  },
  {
   "cell_type": "code",
   "execution_count": null,
   "metadata": {},
   "outputs": [],
   "source": [
    "# mislim da se ovde model preprilagodjava podacima, posto greska na validaionom skupu stalno raste \n",
    "# a F1 se ne povecava\n",
    "# ovo je mozda i posledica sto nisam mogla da izmesam slike, pa je veliki broj slika 1 klase na kraju \n",
    "# train skupa \n",
    "# a i zbog funkcije randint mogao je da pokupi vise istih slika \n",
    "# tako da mislim da bi ovo definitivo trebalo da se sredi i mozda da se trenira sa learning rate = 0.01\n",
    "# i sa 20 epoha\n",
    "# a i matrica konfuzije kaze da  se prilagodjava klasi 0"
   ]
  },
  {
   "cell_type": "code",
   "execution_count": 118,
   "metadata": {},
   "outputs": [],
   "source": [
    "y_pred = model.predict(X_test)"
   ]
  },
  {
   "cell_type": "code",
   "execution_count": 119,
   "metadata": {},
   "outputs": [],
   "source": [
    "y_pred = np.argmax(y_pred, axis = 1)"
   ]
  },
  {
   "cell_type": "code",
   "execution_count": 120,
   "metadata": {},
   "outputs": [
    {
     "name": "stdout",
     "output_type": "stream",
     "text": [
      "[[9516  632]\n",
      " [1329 1723]]\n"
     ]
    }
   ],
   "source": [
    "m = confusion_matrix(y_test,y_pred)\n",
    "print(m) "
   ]
  },
  {
   "cell_type": "code",
   "execution_count": 121,
   "metadata": {},
   "outputs": [
    {
     "name": "stdout",
     "output_type": "stream",
     "text": [
      "              precision    recall  f1-score   support\n",
      "\n",
      "           0       0.88      0.94      0.91     10148\n",
      "           1       0.73      0.56      0.64      3052\n",
      "\n",
      "    accuracy                           0.85     13200\n",
      "   macro avg       0.80      0.75      0.77     13200\n",
      "weighted avg       0.84      0.85      0.84     13200\n",
      "\n"
     ]
    }
   ],
   "source": [
    "r = classification_report(y_test,y_pred)\n",
    "print(r)"
   ]
  },
  {
   "cell_type": "code",
   "execution_count": 125,
   "metadata": {},
   "outputs": [
    {
     "name": "stdout",
     "output_type": "stream",
     "text": [
      "auc_score modela: 0.85\n"
     ]
    }
   ],
   "source": [
    "accuracy = metrics.accuracy_score(y_test,y_pred)\n",
    "print('auc_score modela: {:.2f}' .format(accuracy))"
   ]
  },
  {
   "cell_type": "code",
   "execution_count": 126,
   "metadata": {},
   "outputs": [
    {
     "name": "stdout",
     "output_type": "stream",
     "text": [
      "auc_score modela: 0.64\n"
     ]
    }
   ],
   "source": [
    "f1 = metrics.f1_score(y_test,y_pred)\n",
    "print('auc_score modela: {:.2f}' .format(f1))"
   ]
  },
  {
   "cell_type": "code",
   "execution_count": 122,
   "metadata": {},
   "outputs": [
    {
     "name": "stdout",
     "output_type": "stream",
     "text": [
      "auc_score modela: 0.75\n"
     ]
    }
   ],
   "source": [
    "auc_score = metrics.roc_auc_score(y_test,y_pred)\n",
    "print('auc_score modela: {:.2f}' .format(auc_score))"
   ]
  },
  {
   "cell_type": "markdown",
   "metadata": {},
   "source": [
    "### Čuvanje modela"
   ]
  },
  {
   "cell_type": "code",
   "execution_count": 127,
   "metadata": {},
   "outputs": [],
   "source": [
    "model.save('models/cnn.h5')"
   ]
  }
 ],
 "metadata": {
  "kernelspec": {
   "display_name": "Python 3",
   "language": "python",
   "name": "python3"
  },
  "language_info": {
   "codemirror_mode": {
    "name": "ipython",
    "version": 3
   },
   "file_extension": ".py",
   "mimetype": "text/x-python",
   "name": "python",
   "nbconvert_exporter": "python",
   "pygments_lexer": "ipython3",
   "version": "3.7.8"
  }
 },
 "nbformat": 4,
 "nbformat_minor": 4
}
