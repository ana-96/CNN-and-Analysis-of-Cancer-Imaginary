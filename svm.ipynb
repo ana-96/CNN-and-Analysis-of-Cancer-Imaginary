{
 "cells": [
  {
   "cell_type": "markdown",
   "metadata": {},
   "source": [
    "# Metod potpornih vektora"
   ]
  },
  {
   "cell_type": "code",
   "execution_count": 1,
   "metadata": {},
   "outputs": [],
   "source": [
    "import os\n",
    "import cv2\n",
    "import glob\n",
    "import fnmatch\n",
    "import numpy as np\n",
    "import pandas as pd\n",
    "import sklearn\n",
    "from sklearn import svm\n",
    "from sklearn.decomposition import PCA\n",
    "from sklearn import model_selection\n",
    "from sklearn import metrics\n",
    "from sklearn.metrics import classification_report\n",
    "from sklearn.metrics import confusion_matrix\n",
    "from sklearn.metrics import plot_confusion_matrix\n",
    "from matplotlib import pyplot as plt\n",
    "import imblearn\n",
    "import seaborn as sns"
   ]
  },
  {
   "cell_type": "markdown",
   "metadata": {},
   "source": [
    "### Učitavanje podataka"
   ]
  },
  {
   "cell_type": "markdown",
   "metadata": {},
   "source": [
    "Za učitavanje putanja do slika sa kojima radimo koristimo funkciju ***glob***. Kao argumente prosleđujemo putanje\n",
    "(sa wild card karakterima koji zamenjuju bilo koje uzastopne karaktere), i parametar *recursive* koji, kada je postavljen\n",
    "na *True*, omogućava da se pretrga vrši po svim direktorijumima i poddirektorijumima."
   ]
  },
  {
   "cell_type": "code",
   "execution_count": 2,
   "metadata": {},
   "outputs": [],
   "source": [
    "imagePatches = glob.glob('C:/Users/pc/Desktop/data/**/*.png', recursive=True)"
   ]
  },
  {
   "cell_type": "markdown",
   "metadata": {},
   "source": [
    "Koristimo činjenicu da svaka slika u svojoj putanji ima naznačenu klasu kojoj pripada, \"class0\" za 0, i \"class1\" za 1."
   ]
  },
  {
   "cell_type": "code",
   "execution_count": 3,
   "metadata": {},
   "outputs": [],
   "source": [
    "patternZero = '*class0.png'\n",
    "patternOne = '*class1.png'"
   ]
  },
  {
   "cell_type": "markdown",
   "metadata": {},
   "source": [
    "Funkcija ***fnmatch.filter*** pronalazi sve putanje koje u sebi imaju šablon koji prosleđujemo kao drugi argument. Pomoću nje delimo naše putanje u dve grupe, u zavisnosti od klase."
   ]
  },
  {
   "cell_type": "code",
   "execution_count": 4,
   "metadata": {},
   "outputs": [],
   "source": [
    "classZero = fnmatch.filter(imagePatches, patternZero) \n",
    "classOne = fnmatch.filter(imagePatches, patternOne)"
   ]
  },
  {
   "cell_type": "markdown",
   "metadata": {},
   "source": [
    "Pravimo funkciju za učitavanje slika. Kao argumente joj prosleđujemo minimalni i maksimalni indeks, kojim iz liste putanja\n",
    "izdvajamo one sa kojim želimo da radimo. Ovo je korisno zbog veličine skupa podataka, i ograničenih performansi naših računara. Za učitavanje slika koristimo funkciju ***imread*** iz paketa *cv2*. Svakoj slici koju učitamo, funkcijom ***resize*** podešavamo dimenzije, da bismo bili sigurni da su na kraju sve slike istih dimenzija. Parametrom *interpolation* podešavamo način na koji će se na osnovu postojećih piksela dobiti novi."
   ]
  },
  {
   "cell_type": "code",
   "execution_count": 5,
   "metadata": {},
   "outputs": [],
   "source": [
    "def load_images(lowerIndex,upperIndex):\n",
    "    x = []\n",
    "    y = []\n",
    "    width = 50\n",
    "    height = 50\n",
    "    for img in imagePatches[lowerIndex:upperIndex]:\n",
    "        image = cv2.imread(img)\n",
    "        x.append(cv2.resize(image, (width,height), interpolation=cv2.INTER_CUBIC)) # sve slike moraju biti istih dim \n",
    "        if img in classZero:\n",
    "            y.append(0)\n",
    "        elif img in classOne:\n",
    "            y.append(1)\n",
    "        else:\n",
    "            return\n",
    "    return x,y"
   ]
  },
  {
   "cell_type": "markdown",
   "metadata": {},
   "source": [
    "Odlučili smo da radimo sa skupom od 40 000 slika."
   ]
  },
  {
   "cell_type": "code",
   "execution_count": 6,
   "metadata": {},
   "outputs": [],
   "source": [
    "X,y = load_images(0,40000)"
   ]
  },
  {
   "cell_type": "markdown",
   "metadata": {},
   "source": [
    "Slike pretvaramo u numpy nizove(matrice)."
   ]
  },
  {
   "cell_type": "code",
   "execution_count": 7,
   "metadata": {},
   "outputs": [],
   "source": [
    "X = np.array(X)\n",
    "y = np.array(y)"
   ]
  },
  {
   "cell_type": "markdown",
   "metadata": {},
   "source": [
    "### Podela podataka na train, validacioni i test skup"
   ]
  },
  {
   "cell_type": "code",
   "execution_count": 8,
   "metadata": {},
   "outputs": [],
   "source": [
    "X_train_validation,X_test,y_train_validation,y_test = model_selection.train_test_split(X, y, test_size = 0.33, random_state = 42, stratify = y)"
   ]
  },
  {
   "cell_type": "code",
   "execution_count": 9,
   "metadata": {},
   "outputs": [
    {
     "name": "stdout",
     "output_type": "stream",
     "text": [
      "Broj slika u skupu za treniranje i validaciju: 26800\n",
      "Broj slika u skupu za testiranje: 13200\n"
     ]
    }
   ],
   "source": [
    "print('Broj slika u skupu za treniranje i validaciju:', len(X_train_validation))\n",
    "print('Broj slika u skupu za testiranje:', len(X_test))"
   ]
  },
  {
   "cell_type": "code",
   "execution_count": 10,
   "metadata": {},
   "outputs": [],
   "source": [
    "X_train,X_validation,y_train,y_validation = model_selection.train_test_split(X_train_validation, y_train_validation, test_size = 0.2, random_state = 42, stratify = y_train_validation)"
   ]
  },
  {
   "cell_type": "code",
   "execution_count": 11,
   "metadata": {},
   "outputs": [
    {
     "name": "stdout",
     "output_type": "stream",
     "text": [
      "Broj slika u skupu za treniranje: 21440\n",
      "Broj slika u skupu za validaciju: 5360\n"
     ]
    }
   ],
   "source": [
    "print('Broj slika u skupu za treniranje:', len(X_train))\n",
    "print('Broj slika u skupu za validaciju:', len(X_validation))"
   ]
  },
  {
   "cell_type": "markdown",
   "metadata": {},
   "source": [
    "### Normalizacija"
   ]
  },
  {
   "cell_type": "markdown",
   "metadata": {},
   "source": [
    "Slike ćemo proslediti klasifikatoru kao jednodimenzione nizove"
   ]
  },
  {
   "cell_type": "code",
   "execution_count": 12,
   "metadata": {},
   "outputs": [],
   "source": [
    "X_shape = X_train.shape[1]*X_train.shape[2]*X_train.shape[3]\n",
    "X_train = X_train.reshape(X_train.shape[0], X_shape)\n",
    "X_validation = X_validation.reshape(X_validation.shape[0],X_shape)\n",
    "X_test = X_test.reshape(X_test.shape[0],X_shape)"
   ]
  },
  {
   "cell_type": "markdown",
   "metadata": {},
   "source": [
    "Svodimo vrednosti svakog piksela u opseg [0,1]"
   ]
  },
  {
   "cell_type": "code",
   "execution_count": 13,
   "metadata": {},
   "outputs": [],
   "source": [
    "X_train = X_train.astype('float32')\n",
    "X_train = X_train/255"
   ]
  },
  {
   "cell_type": "code",
   "execution_count": 14,
   "metadata": {},
   "outputs": [],
   "source": [
    "X_validation = X_validation.astype('float32')\n",
    "X_validation = X_validation/255"
   ]
  },
  {
   "cell_type": "code",
   "execution_count": 15,
   "metadata": {},
   "outputs": [],
   "source": [
    "X_test = X_test.astype('float32')\n",
    "X_test = X_test/255"
   ]
  },
  {
   "cell_type": "markdown",
   "metadata": {},
   "source": [
    "### Nebalansiranost klasa na train skupu"
   ]
  },
  {
   "cell_type": "code",
   "execution_count": 16,
   "metadata": {},
   "outputs": [
    {
     "name": "stdout",
     "output_type": "stream",
     "text": [
      "Broj slika koje nemaju tumor:  16484\n",
      "Broj slika koje imaju tumor:  4956\n"
     ]
    },
    {
     "data": {
      "image/png": "[encoded data removed]",
      "text/plain": [
       "<Figure size 432x288 with 1 Axes>"
      ]
     },
     "metadata": {
      "needs_background": "light"
     },
     "output_type": "display_data"
    }
   ],
   "source": [
    "c = np.bincount(y_train)\n",
    "print('Broj slika koje nemaju tumor: ', c[0])\n",
    "print('Broj slika koje imaju tumor: ', c[1])\n",
    "sns.countplot(y_train)\n",
    "plt.show()"
   ]
  },
  {
   "cell_type": "markdown",
   "metadata": {},
   "source": [
    "Izbalansiraćemo trening skup metodom undersamplinga. Za ovo koristimo ***RandomUnderSampler***. Parametar *sampling_strategy* postavljen je na vrednst \"auto\", tako da će nove klase biti iste veličine."
   ]
  },
  {
   "cell_type": "code",
   "execution_count": 17,
   "metadata": {},
   "outputs": [],
   "source": [
    "rus = imblearn.under_sampling.RandomUnderSampler(random_state = 0,sampling_strategy = 'auto')\n",
    "X_train, y_train = rus.fit_sample(X_train, y_train)"
   ]
  },
  {
   "cell_type": "code",
   "execution_count": 18,
   "metadata": {},
   "outputs": [
    {
     "name": "stdout",
     "output_type": "stream",
     "text": [
      "Broj slika u skupu za treniranje nakon under-samplinga: 9912\n"
     ]
    }
   ],
   "source": [
    "print('Broj slika u skupu za treniranje nakon under-samplinga:', len(X_train))"
   ]
  },
  {
   "cell_type": "code",
   "execution_count": 19,
   "metadata": {},
   "outputs": [
    {
     "data": {
      "image/png": "[encoded data removed]",
      "text/plain": [
       "<Figure size 432x288 with 1 Axes>"
      ]
     },
     "metadata": {
      "needs_background": "light"
     },
     "output_type": "display_data"
    }
   ],
   "source": [
    "sns.countplot(y_train)\n",
    "plt.show()"
   ]
  },
  {
   "cell_type": "markdown",
   "metadata": {},
   "source": [
    "### Redukcija dimenzija pomoću PCA"
   ]
  },
  {
   "cell_type": "markdown",
   "metadata": {},
   "source": [
    "Pokušaćemo da smanjimo preprilagođavanje redukcijom prostora atributa. Koristićemo Analizu glavnih komponenti(PCA). Detaljniji opis ove metode dat je u prezentaciji."
   ]
  },
  {
   "cell_type": "code",
   "execution_count": 20,
   "metadata": {},
   "outputs": [
    {
     "data": {
      "text/plain": [
       "PCA()"
      ]
     },
     "execution_count": 20,
     "metadata": {},
     "output_type": "execute_result"
    }
   ],
   "source": [
    "pca = PCA()\n",
    "pca.fit(X_train)"
   ]
  },
  {
   "cell_type": "code",
   "execution_count": 21,
   "metadata": {},
   "outputs": [],
   "source": [
    "var = np.cumsum(pca.explained_variance_ratio_)"
   ]
  },
  {
   "cell_type": "code",
   "execution_count": 22,
   "metadata": {},
   "outputs": [
    {
     "data": {
      "image/png": "[encoded data removed]",
      "text/plain": [
       "<Figure size 432x288 with 1 Axes>"
      ]
     },
     "metadata": {
      "needs_background": "light"
     },
     "output_type": "display_data"
    }
   ],
   "source": [
    "plt.plot(np.arange(X_shape),var)\n",
    "plt.title(' Expained Variance Ratio After PCA')\n",
    "plt.xlabel('Number of components')\n",
    "plt.ylabel('Cumulative Explained Variance Ratio')\n",
    "plt.show()"
   ]
  },
  {
   "cell_type": "markdown",
   "metadata": {},
   "source": [
    "Na grafiku je prikazan udeo objasnjen udeo varijanse u zavisnosti od broja komponenti. Vidimo da je već nakon par stotina komponenti objašnjeno preko 80% varijanse."
   ]
  },
  {
   "cell_type": "code",
   "execution_count": 23,
   "metadata": {},
   "outputs": [
    {
     "data": {
      "text/plain": [
       "(9912, 7500)"
      ]
     },
     "execution_count": 23,
     "metadata": {},
     "output_type": "execute_result"
    }
   ],
   "source": [
    "X_train.shape"
   ]
  },
  {
   "cell_type": "code",
   "execution_count": 24,
   "metadata": {},
   "outputs": [],
   "source": [
    "img_pca = PCA(n_components = 0.8)\n",
    "img_pca.fit(X_train,y_train)\n",
    "X_train = img_pca.transform(X_train)\n",
    "X_validation_pca = img_pca.transform(X_validation)"
   ]
  },
  {
   "cell_type": "code",
   "execution_count": 25,
   "metadata": {},
   "outputs": [
    {
     "data": {
      "text/plain": [
       "(9912, 236)"
      ]
     },
     "execution_count": 25,
     "metadata": {},
     "output_type": "execute_result"
    }
   ],
   "source": [
    "X_train.shape"
   ]
  },
  {
   "cell_type": "markdown",
   "metadata": {},
   "source": [
    "Sveli smo dimenzije podataka sa 7500 na 236."
   ]
  },
  {
   "cell_type": "markdown",
   "metadata": {},
   "source": [
    "### Izbor hiperparametara modela"
   ]
  },
  {
   "cell_type": "markdown",
   "metadata": {},
   "source": [
    "Sledeći korak je izbor parametara modela. Unapred sastavljamo listu potencijalnih vrednosti za svaki od parametara(regularizaciona konstanta i širina kernela). "
   ]
  },
  {
   "cell_type": "code",
   "execution_count": 26,
   "metadata": {},
   "outputs": [],
   "source": [
    "Cs = [10**i for i in range(-3,3)]\n",
    "gammas = [10**i for i in range(-3,3)]\n",
    "best_c = None\n",
    "best_gamma = None\n",
    "best_f1_score = 0"
   ]
  },
  {
   "cell_type": "markdown",
   "metadata": {},
   "source": [
    "Prolazimo po svim mogućim kombinacijama vrednosti parametara, i ocenjujemo tako dobijene modele na validacionom skupu. Izabraćemo parametre koji daju najbolji model. Kao metriku koristimo F1 skor."
   ]
  },
  {
   "cell_type": "code",
   "execution_count": 27,
   "metadata": {},
   "outputs": [],
   "source": [
    "for C in Cs:\n",
    "    for gamma in gammas:\n",
    "        model = svm.SVC(kernel = 'rbf', gamma = gamma, C = C)\n",
    "        model.fit(X_train,y_train)\n",
    "        y_pred = model.predict(X_validation_pca)\n",
    "        f1_score = metrics.f1_score(y_validation,y_pred)\n",
    "        if f1_score > best_f1_score:\n",
    "            best_f1_score = f1_score\n",
    "            best_c = C\n",
    "            best_gamma = gamma"
   ]
  },
  {
   "cell_type": "code",
   "execution_count": 28,
   "metadata": {},
   "outputs": [
    {
     "name": "stdout",
     "output_type": "stream",
     "text": [
      "best_f1_score: 0.68\n",
      "best_c:  1\n",
      "best_gamma:  0.01\n"
     ]
    }
   ],
   "source": [
    "print(\"best_f1_score: {:.2f}\" .format(best_f1_score))\n",
    "print(\"best_c: \", best_c)\n",
    "print(\"best_gamma: \", best_gamma)"
   ]
  },
  {
   "cell_type": "markdown",
   "metadata": {},
   "source": [
    "### Učenje najboljeg modela i evaluacija"
   ]
  },
  {
   "cell_type": "markdown",
   "metadata": {},
   "source": [
    "Sledi treniranje dobijenog najboljeg modela na uniji trening i validacionog skupa, kako bismo iskoristili što više podataka. Podatke pripremamo na isti način kao kada smo radili samo na trening skupu."
   ]
  },
  {
   "cell_type": "markdown",
   "metadata": {},
   "source": [
    "##### Priprema train_validation skupa za treniranje modela"
   ]
  },
  {
   "cell_type": "code",
   "execution_count": 29,
   "metadata": {},
   "outputs": [],
   "source": [
    "X_train_validation = X_train_validation.reshape(X_train_validation.shape[0],X_shape)"
   ]
  },
  {
   "cell_type": "code",
   "execution_count": 30,
   "metadata": {},
   "outputs": [],
   "source": [
    "X_train_validation = X_train_validation/255"
   ]
  },
  {
   "cell_type": "code",
   "execution_count": 31,
   "metadata": {},
   "outputs": [
    {
     "data": {
      "image/png": "[encoded data removed]",
      "text/plain": [
       "<Figure size 432x288 with 1 Axes>"
      ]
     },
     "metadata": {
      "needs_background": "light"
     },
     "output_type": "display_data"
    }
   ],
   "source": [
    "sns.countplot(y_train_validation)\n",
    "plt.show()"
   ]
  },
  {
   "cell_type": "code",
   "execution_count": 32,
   "metadata": {},
   "outputs": [],
   "source": [
    "rus = imblearn.under_sampling.RandomUnderSampler(random_state = 0,sampling_strategy = 'auto')\n",
    "X_train_validation, y_train_validation = rus.fit_sample(X_train_validation, y_train_validation)"
   ]
  },
  {
   "cell_type": "code",
   "execution_count": 33,
   "metadata": {},
   "outputs": [],
   "source": [
    "img_pca = PCA(n_components = 0.8)\n",
    "img_pca.fit(X_train_validation,y_train_validation)\n",
    "X_train_validation = img_pca.transform(X_train_validation)\n",
    "X_test_pca = img_pca.transform(X_test)"
   ]
  },
  {
   "cell_type": "code",
   "execution_count": 34,
   "metadata": {},
   "outputs": [
    {
     "data": {
      "text/plain": [
       "(12390, 244)"
      ]
     },
     "execution_count": 34,
     "metadata": {},
     "output_type": "execute_result"
    }
   ],
   "source": [
    "X_train_validation.shape"
   ]
  },
  {
   "cell_type": "markdown",
   "metadata": {},
   "source": [
    "##### Učenje modela i evaluacija"
   ]
  },
  {
   "cell_type": "code",
   "execution_count": 35,
   "metadata": {},
   "outputs": [
    {
     "data": {
      "text/plain": [
       "SVC(C=1, gamma=0.01)"
      ]
     },
     "execution_count": 35,
     "metadata": {},
     "output_type": "execute_result"
    }
   ],
   "source": [
    "best_model = svm.SVC(kernel = 'rbf', C=best_c, gamma=best_gamma)\n",
    "best_model.fit(X_train_validation,y_train_validation)"
   ]
  },
  {
   "cell_type": "markdown",
   "metadata": {},
   "source": [
    "Model evaluiramo na test skupu, tako što ga koristimo da predvidimo vrednosti ciljne promenljive za podatke iz test skupa, a zatim poredimo predviđene sa stvarnim vrednostima, koristeći različite metrike."
   ]
  },
  {
   "cell_type": "code",
   "execution_count": 36,
   "metadata": {},
   "outputs": [],
   "source": [
    "y_pred = best_model.predict(X_test_pca)"
   ]
  },
  {
   "cell_type": "code",
   "execution_count": 37,
   "metadata": {},
   "outputs": [
    {
     "name": "stdout",
     "output_type": "stream",
     "text": [
      "Tačnost modela: 0.82\n"
     ]
    }
   ],
   "source": [
    "score = metrics.accuracy_score(y_test,y_pred)\n",
    "print(\"Tačnost modela: {:.2f}\" .format(score))"
   ]
  },
  {
   "cell_type": "code",
   "execution_count": 38,
   "metadata": {},
   "outputs": [
    {
     "name": "stdout",
     "output_type": "stream",
     "text": [
      "F1 score modela: 0.69\n"
     ]
    }
   ],
   "source": [
    "f1_score = metrics.f1_score(y_test,y_pred)\n",
    "print('F1 score modela: {:.2f}' .format(f1_score))"
   ]
  },
  {
   "cell_type": "code",
   "execution_count": 39,
   "metadata": {},
   "outputs": [
    {
     "name": "stdout",
     "output_type": "stream",
     "text": [
      "auc_score modela: 0.83\n"
     ]
    }
   ],
   "source": [
    "auc_score = metrics.roc_auc_score(y_test,y_pred)\n",
    "print('auc_score modela: {:.2f}' .format(auc_score))"
   ]
  },
  {
   "cell_type": "code",
   "execution_count": 40,
   "metadata": {},
   "outputs": [
    {
     "data": {
      "image/png": "[encoded data removed]",
      "text/plain": [
       "<Figure size 432x288 with 1 Axes>"
      ]
     },
     "metadata": {
      "needs_background": "light"
     },
     "output_type": "display_data"
    }
   ],
   "source": [
    "metrics.plot_roc_curve(best_model,X_test_pca,y_test)\n",
    "plt.show()"
   ]
  },
  {
   "cell_type": "code",
   "execution_count": 41,
   "metadata": {},
   "outputs": [
    {
     "name": "stdout",
     "output_type": "stream",
     "text": [
      "              precision    recall  f1-score   support\n",
      "\n",
      "           0       0.95      0.81      0.87     10148\n",
      "           1       0.58      0.85      0.69      3052\n",
      "\n",
      "    accuracy                           0.82     13200\n",
      "   macro avg       0.76      0.83      0.78     13200\n",
      "weighted avg       0.86      0.82      0.83     13200\n",
      "\n"
     ]
    }
   ],
   "source": [
    "print(classification_report(y_test,y_pred))"
   ]
  },
  {
   "cell_type": "code",
   "execution_count": 42,
   "metadata": {},
   "outputs": [
    {
     "data": {
      "image/png": "[encoded data removed]",
      "text/plain": [
       "<Figure size 432x288 with 2 Axes>"
      ]
     },
     "metadata": {
      "needs_background": "light"
     },
     "output_type": "display_data"
    }
   ],
   "source": [
    "plot_confusion_matrix(best_model,X_test_pca,y_test)\n",
    "plt.show()"
   ]
  },
  {
   "cell_type": "markdown",
   "metadata": {},
   "source": [
    "##### Najbolji model treniran na nebalansiranom validacionom skupu"
   ]
  },
  {
   "cell_type": "markdown",
   "metadata": {},
   "source": [
    "Na kraju ćemo videti kakvi se rezultati dobijaju kada se model trenira na nebalansiranom skupu. Za to cemo iskoristiti validacioni skup, koji u prethodnom postupku dobijanja naboljeg modela nismo balansirali."
   ]
  },
  {
   "cell_type": "code",
   "execution_count": 43,
   "metadata": {},
   "outputs": [
    {
     "data": {
      "image/png": "[encoded data removed]",
      "text/plain": [
       "<Figure size 432x288 with 1 Axes>"
      ]
     },
     "metadata": {
      "needs_background": "light"
     },
     "output_type": "display_data"
    }
   ],
   "source": [
    "sns.countplot(y_validation)\n",
    "plt.show()"
   ]
  },
  {
   "cell_type": "code",
   "execution_count": 44,
   "metadata": {},
   "outputs": [],
   "source": [
    "img_pca = PCA(n_components = 0.8)\n",
    "img_pca.fit(X_validation,y_validation)\n",
    "X_validation = img_pca.transform(X_validation)\n",
    "X_test = img_pca.transform(X_test)"
   ]
  },
  {
   "cell_type": "code",
   "execution_count": 45,
   "metadata": {},
   "outputs": [
    {
     "data": {
      "text/plain": [
       "(5360, 178)"
      ]
     },
     "execution_count": 45,
     "metadata": {},
     "output_type": "execute_result"
    }
   ],
   "source": [
    "X_validation.shape"
   ]
  },
  {
   "cell_type": "code",
   "execution_count": 46,
   "metadata": {},
   "outputs": [
    {
     "data": {
      "text/plain": [
       "(13200, 178)"
      ]
     },
     "execution_count": 46,
     "metadata": {},
     "output_type": "execute_result"
    }
   ],
   "source": [
    "X_test.shape"
   ]
  },
  {
   "cell_type": "code",
   "execution_count": 47,
   "metadata": {},
   "outputs": [
    {
     "data": {
      "text/plain": [
       "SVC(C=1, gamma=0.01)"
      ]
     },
     "execution_count": 47,
     "metadata": {},
     "output_type": "execute_result"
    }
   ],
   "source": [
    "model = svm.SVC(kernel = 'rbf', C=best_c, gamma=best_gamma)\n",
    "model.fit(X_validation,y_validation)"
   ]
  },
  {
   "cell_type": "code",
   "execution_count": 48,
   "metadata": {},
   "outputs": [],
   "source": [
    "y_pred1 = model.predict(X_test)"
   ]
  },
  {
   "cell_type": "code",
   "execution_count": 49,
   "metadata": {},
   "outputs": [
    {
     "name": "stdout",
     "output_type": "stream",
     "text": [
      "Tačnost modela: 0.85\n"
     ]
    }
   ],
   "source": [
    "score = metrics.accuracy_score(y_test,y_pred1)\n",
    "print(\"Tačnost modela: {:.2f}\" .format(score))"
   ]
  },
  {
   "cell_type": "code",
   "execution_count": 50,
   "metadata": {},
   "outputs": [
    {
     "name": "stdout",
     "output_type": "stream",
     "text": [
      "F1 score modela: 0.63\n"
     ]
    }
   ],
   "source": [
    "f1_score = metrics.f1_score(y_test,y_pred1)\n",
    "print('F1 score modela: {:.2f}' .format(f1_score))"
   ]
  },
  {
   "cell_type": "code",
   "execution_count": 51,
   "metadata": {},
   "outputs": [
    {
     "name": "stdout",
     "output_type": "stream",
     "text": [
      "auc_score modela: 0.75\n"
     ]
    }
   ],
   "source": [
    "auc_score = metrics.roc_auc_score(y_test,y_pred1)\n",
    "print('auc_score modela: {:.2f}' .format(auc_score))"
   ]
  },
  {
   "cell_type": "code",
   "execution_count": 52,
   "metadata": {},
   "outputs": [
    {
     "data": {
      "image/png": "[encoded data removed]",
      "text/plain": [
       "<Figure size 432x288 with 2 Axes>"
      ]
     },
     "metadata": {
      "needs_background": "light"
     },
     "output_type": "display_data"
    }
   ],
   "source": [
    "plot_confusion_matrix(model,X_test,y_test)\n",
    "plt.show()"
   ]
  },
  {
   "cell_type": "markdown",
   "metadata": {},
   "source": [
    "### Čuvanje modela"
   ]
  },
  {
   "cell_type": "code",
   "execution_count": 53,
   "metadata": {},
   "outputs": [],
   "source": [
    "import pickle"
   ]
  },
  {
   "cell_type": "code",
   "execution_count": 55,
   "metadata": {},
   "outputs": [],
   "source": [
    "file_name = 'models/svm.model'\n",
    "with open(file_name,'wb') as file:\n",
    "    pickle.dump(best_model,file)"
   ]
  },
  {
   "cell_type": "code",
   "execution_count": null,
   "metadata": {},
   "outputs": [],
   "source": []
  }
 ],
 "metadata": {
  "kernelspec": {
   "display_name": "Python 3",
   "language": "python",
   "name": "python3"
  },
  "language_info": {
   "codemirror_mode": {
    "name": "ipython",
    "version": 3
   },
   "file_extension": ".py",
   "mimetype": "text/x-python",
   "name": "python",
   "nbconvert_exporter": "python",
   "pygments_lexer": "ipython3",
   "version": "3.7.8"
  }
 },
 "nbformat": 4,
 "nbformat_minor": 4
}
