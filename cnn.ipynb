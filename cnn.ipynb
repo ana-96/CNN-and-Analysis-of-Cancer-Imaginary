{
 "cells": [
  {
   "cell_type": "markdown",
   "metadata": {},
   "source": [
    "# CNN "
   ]
  },
  {
   "cell_type": "code",
   "execution_count": 2,
   "metadata": {},
   "outputs": [],
   "source": [
    "import os\n",
    "import cv2\n",
    "import glob\n",
    "import fnmatch\n",
    "import numpy as np\n",
    "import pandas as pd\n",
    "from sklearn import model_selection\n",
    "from sklearn import metrics\n",
    "from sklearn.metrics import classification_report\n",
    "from sklearn.metrics import confusion_matrix\n",
    "from matplotlib import pyplot as plt\n",
    "import imblearn\n",
    "import seaborn as sns # Paket za crtanje countplotova(vizuelno predstavljanje klasa kod nebalansiranosti)"
   ]
  },
  {
   "cell_type": "code",
   "execution_count": 3,
   "metadata": {},
   "outputs": [],
   "source": [
    "from keras.models import Sequential\n",
    "from keras.layers import Dense,Dropout,Flatten,Conv2D,MaxPooling2D\n",
    "from keras.optimizers import Adam\n",
    "from keras.metrics import AUC\n",
    "from keras import utils"
   ]
  },
  {
   "cell_type": "markdown",
   "metadata": {},
   "source": [
    "### Učitavanje  podataka"
   ]
  },
  {
   "cell_type": "code",
   "execution_count": 4,
   "metadata": {},
   "outputs": [],
   "source": [
    "imagePatches = glob.glob('C:/Users/pc/Desktop/data/**/*.png', recursive=True)"
   ]
  },
  {
   "cell_type": "code",
   "execution_count": 5,
   "metadata": {},
   "outputs": [],
   "source": [
    "patternZero = '*class0.png'\n",
    "patternOne = '*class1.png'"
   ]
  },
  {
   "cell_type": "code",
   "execution_count": 6,
   "metadata": {},
   "outputs": [],
   "source": [
    "classZero = fnmatch.filter(imagePatches, patternZero) \n",
    "classOne = fnmatch.filter(imagePatches, patternOne)"
   ]
  },
  {
   "cell_type": "code",
   "execution_count": 7,
   "metadata": {},
   "outputs": [],
   "source": [
    "def load_images(lowerIndex,upperIndex):\n",
    "    x = []\n",
    "    y = []\n",
    "    width = 50\n",
    "    height = 50\n",
    "    for img in imagePatches[lowerIndex:upperIndex]:\n",
    "        image = cv2.imread(img)\n",
    "        x.append(cv2.resize(image, (width,height), interpolation=cv2.INTER_CUBIC)) # sve slike moraju biti istih dim \n",
    "        if img in classZero:\n",
    "            y.append(0)\n",
    "        elif img in classOne:\n",
    "            y.append(1)\n",
    "        else:\n",
    "            return\n",
    "    return x,y"
   ]
  },
  {
   "cell_type": "code",
   "execution_count": 8,
   "metadata": {},
   "outputs": [],
   "source": [
    "X,y = load_images(0,40000)"
   ]
  },
  {
   "cell_type": "code",
   "execution_count": 9,
   "metadata": {},
   "outputs": [],
   "source": [
    "X = np.array(X)\n",
    "y = np.array(y)"
   ]
  },
  {
   "cell_type": "markdown",
   "metadata": {},
   "source": [
    "### Podela podataka na train, validacioni i test skup"
   ]
  },
  {
   "cell_type": "code",
   "execution_count": 10,
   "metadata": {},
   "outputs": [],
   "source": [
    "X_train_val,X_test,y_train_val,y_test = model_selection.train_test_split(X, y, test_size = 0.33, random_state = 42, stratify = y)"
   ]
  },
  {
   "cell_type": "code",
   "execution_count": 11,
   "metadata": {},
   "outputs": [],
   "source": [
    "X_train,X_val,y_train,y_val = model_selection.train_test_split(X_train_val, y_train_val, test_size = 0.2, random_state = 42, stratify = y_train_val)"
   ]
  },
  {
   "cell_type": "markdown",
   "metadata": {},
   "source": [
    "### Normalizacija"
   ]
  },
  {
   "cell_type": "code",
   "execution_count": 12,
   "metadata": {},
   "outputs": [],
   "source": [
    "X_train = X_train.astype('float32')\n",
    "X_train = X_train/255"
   ]
  },
  {
   "cell_type": "code",
   "execution_count": 13,
   "metadata": {},
   "outputs": [],
   "source": [
    "X_val = X_val.astype('float32')\n",
    "X_val = X_val/255"
   ]
  },
  {
   "cell_type": "code",
   "execution_count": 14,
   "metadata": {},
   "outputs": [],
   "source": [
    "X_test = X_test.astype('float32')\n",
    "X_test = X_test/255"
   ]
  },
  {
   "cell_type": "markdown",
   "metadata": {},
   "source": [
    "### Nebalansiranost train skupa"
   ]
  },
  {
   "cell_type": "code",
   "execution_count": 15,
   "metadata": {},
   "outputs": [
    {
     "data": {
      "image/png": "[encoded data removed]",
      "text/plain": [
       "<Figure size 432x288 with 1 Axes>"
      ]
     },
     "metadata": {
      "needs_background": "light"
     },
     "output_type": "display_data"
    }
   ],
   "source": [
    "np.bincount(y_train)\n",
    "sns.countplot(y_train)\n",
    "plt.show()"
   ]
  },
  {
   "cell_type": "code",
   "execution_count": 16,
   "metadata": {},
   "outputs": [
    {
     "data": {
      "text/plain": [
       "(21440, 50, 50, 3)"
      ]
     },
     "execution_count": 16,
     "metadata": {},
     "output_type": "execute_result"
    }
   ],
   "source": [
    "X_train.shape"
   ]
  },
  {
   "cell_type": "code",
   "execution_count": 17,
   "metadata": {},
   "outputs": [
    {
     "data": {
      "text/plain": [
       "array([16484,  4956], dtype=int64)"
      ]
     },
     "execution_count": 17,
     "metadata": {},
     "output_type": "execute_result"
    }
   ],
   "source": [
    "np.bincount(y_train)"
   ]
  },
  {
   "cell_type": "code",
   "execution_count": 18,
   "metadata": {},
   "outputs": [
    {
     "data": {
      "text/plain": [
       "(5360, 50, 50, 3)"
      ]
     },
     "execution_count": 18,
     "metadata": {},
     "output_type": "execute_result"
    }
   ],
   "source": [
    "X_val.shape"
   ]
  },
  {
   "cell_type": "code",
   "execution_count": 19,
   "metadata": {},
   "outputs": [
    {
     "data": {
      "text/plain": [
       "array([4121, 1239], dtype=int64)"
      ]
     },
     "execution_count": 19,
     "metadata": {},
     "output_type": "execute_result"
    }
   ],
   "source": [
    "np.bincount(y_val)"
   ]
  },
  {
   "cell_type": "code",
   "execution_count": 20,
   "metadata": {},
   "outputs": [
    {
     "data": {
      "text/plain": [
       "(13200, 50, 50, 3)"
      ]
     },
     "execution_count": 20,
     "metadata": {},
     "output_type": "execute_result"
    }
   ],
   "source": [
    "X_test.shape"
   ]
  },
  {
   "cell_type": "code",
   "execution_count": 21,
   "metadata": {},
   "outputs": [
    {
     "data": {
      "text/plain": [
       "array([10148,  3052], dtype=int64)"
      ]
     },
     "execution_count": 21,
     "metadata": {},
     "output_type": "execute_result"
    }
   ],
   "source": [
    "np.bincount(y_test)"
   ]
  },
  {
   "cell_type": "markdown",
   "metadata": {},
   "source": [
    "### Kreiranje i treniranje mreže "
   ]
  },
  {
   "cell_type": "code",
   "execution_count": 22,
   "metadata": {},
   "outputs": [
    {
     "name": "stdout",
     "output_type": "stream",
     "text": [
      "Model: \"sequential\"\n",
      "_________________________________________________________________\n",
      "Layer (type)                 Output Shape              Param #   \n",
      "=================================================================\n",
      "conv2d (Conv2D)              (None, 50, 50, 32)        896       \n",
      "_________________________________________________________________\n",
      "max_pooling2d (MaxPooling2D) (None, 25, 25, 32)        0         \n",
      "_________________________________________________________________\n",
      "conv2d_1 (Conv2D)            (None, 25, 25, 64)        18496     \n",
      "_________________________________________________________________\n",
      "max_pooling2d_1 (MaxPooling2 (None, 12, 12, 64)        0         \n",
      "_________________________________________________________________\n",
      "flatten (Flatten)            (None, 9216)              0         \n",
      "_________________________________________________________________\n",
      "dense (Dense)                (None, 128)               1179776   \n",
      "_________________________________________________________________\n",
      "dropout (Dropout)            (None, 128)               0         \n",
      "_________________________________________________________________\n",
      "dense_1 (Dense)              (None, 1)                 129       \n",
      "=================================================================\n",
      "Total params: 1,199,297\n",
      "Trainable params: 1,199,297\n",
      "Non-trainable params: 0\n",
      "_________________________________________________________________\n"
     ]
    }
   ],
   "source": [
    "input_shape = (50,50,3)\n",
    "\n",
    "model = Sequential()\n",
    "model.add(Conv2D(32, kernel_size=(3, 3), strides=(1, 1), padding='same', activation='relu', input_shape=input_shape))\n",
    "model.add(MaxPooling2D(pool_size=(2, 2)))\n",
    "model.add(Conv2D(64, (3, 3), strides=(1, 1), padding='same', activation='relu'))\n",
    "model.add(MaxPooling2D(pool_size=(2, 2)))\n",
    "model.add(Flatten())\n",
    "model.add(Dense(128, activation='relu'))\n",
    "model.add(Dropout(0.25))\n",
    "model.add(Dense(1, activation='sigmoid'))\n",
    "\n",
    "model.summary()\n",
    "\n",
    "model.compile(loss='binary_crossentropy', optimizer=Adam(learning_rate = 1e-5), metrics = [AUC(name = 'auc')])"
   ]
  },
  {
   "cell_type": "code",
   "execution_count": 23,
   "metadata": {},
   "outputs": [
    {
     "name": "stdout",
     "output_type": "stream",
     "text": [
      "Epoch 1/30\n",
      "335/335 [==============================] - 59s 176ms/step - loss: 0.5013 - auc: 0.7428 - val_loss: 0.4630 - val_auc: 0.8587\n",
      "Epoch 2/30\n",
      "335/335 [==============================] - 62s 185ms/step - loss: 0.4302 - auc: 0.8573 - val_loss: 0.3955 - val_auc: 0.8758\n",
      "Epoch 3/30\n",
      "335/335 [==============================] - 62s 185ms/step - loss: 0.3824 - auc: 0.8697 - val_loss: 0.3657 - val_auc: 0.8810\n",
      "Epoch 4/30\n",
      "335/335 [==============================] - 62s 184ms/step - loss: 0.3637 - auc: 0.8756 - val_loss: 0.3553 - val_auc: 0.8832\n",
      "Epoch 5/30\n",
      "335/335 [==============================] - 62s 185ms/step - loss: 0.3571 - auc: 0.8784 - val_loss: 0.3509 - val_auc: 0.8854\n",
      "Epoch 6/30\n",
      "335/335 [==============================] - 62s 184ms/step - loss: 0.3542 - auc: 0.8795 - val_loss: 0.3557 - val_auc: 0.8869\n",
      "Epoch 7/30\n",
      "335/335 [==============================] - 62s 185ms/step - loss: 0.3521 - auc: 0.8808 - val_loss: 0.3469 - val_auc: 0.8877\n",
      "Epoch 8/30\n",
      "335/335 [==============================] - 62s 185ms/step - loss: 0.3502 - auc: 0.8821 - val_loss: 0.3434 - val_auc: 0.8884\n",
      "Epoch 9/30\n",
      "335/335 [==============================] - 62s 185ms/step - loss: 0.3487 - auc: 0.8833 - val_loss: 0.3424 - val_auc: 0.8890\n",
      "Epoch 10/30\n",
      "335/335 [==============================] - 63s 187ms/step - loss: 0.3477 - auc: 0.8843 - val_loss: 0.3466 - val_auc: 0.8896\n",
      "Epoch 11/30\n",
      "335/335 [==============================] - 67s 200ms/step - loss: 0.3483 - auc: 0.8834 - val_loss: 0.3409 - val_auc: 0.8904\n",
      "Epoch 12/30\n",
      "335/335 [==============================] - 70s 208ms/step - loss: 0.3462 - auc: 0.8853 - val_loss: 0.3400 - val_auc: 0.8909\n",
      "Epoch 13/30\n",
      "335/335 [==============================] - 68s 204ms/step - loss: 0.3452 - auc: 0.8858 - val_loss: 0.3394 - val_auc: 0.8915\n",
      "Epoch 14/30\n",
      "335/335 [==============================] - 70s 209ms/step - loss: 0.3448 - auc: 0.8862 - val_loss: 0.3387 - val_auc: 0.8917\n",
      "Epoch 15/30\n",
      "335/335 [==============================] - 69s 206ms/step - loss: 0.3428 - auc: 0.8881 - val_loss: 0.3403 - val_auc: 0.8920\n",
      "Epoch 16/30\n",
      "335/335 [==============================] - 73s 218ms/step - loss: 0.3432 - auc: 0.8873 - val_loss: 0.3377 - val_auc: 0.8928\n",
      "Epoch 17/30\n",
      "335/335 [==============================] - 72s 214ms/step - loss: 0.3425 - auc: 0.8881 - val_loss: 0.3374 - val_auc: 0.8932\n",
      "Epoch 18/30\n",
      "335/335 [==============================] - 75s 224ms/step - loss: 0.3405 - auc: 0.8894 - val_loss: 0.3363 - val_auc: 0.8937\n",
      "Epoch 19/30\n",
      "335/335 [==============================] - 73s 219ms/step - loss: 0.3397 - auc: 0.8899 - val_loss: 0.3388 - val_auc: 0.8943\n",
      "Epoch 20/30\n",
      "335/335 [==============================] - 76s 225ms/step - loss: 0.3387 - auc: 0.8909 - val_loss: 0.3350 - val_auc: 0.8943\n",
      "Epoch 21/30\n",
      "335/335 [==============================] - 74s 220ms/step - loss: 0.3381 - auc: 0.8917 - val_loss: 0.3388 - val_auc: 0.8948\n",
      "Epoch 22/30\n",
      "335/335 [==============================] - 75s 224ms/step - loss: 0.3377 - auc: 0.8916 - val_loss: 0.3364 - val_auc: 0.8950\n",
      "Epoch 23/30\n",
      "335/335 [==============================] - 74s 220ms/step - loss: 0.3366 - auc: 0.8924 - val_loss: 0.3345 - val_auc: 0.8955\n",
      "Epoch 24/30\n",
      "335/335 [==============================] - 77s 230ms/step - loss: 0.3366 - auc: 0.8928 - val_loss: 0.3325 - val_auc: 0.8957\n",
      "Epoch 25/30\n",
      "335/335 [==============================] - 74s 222ms/step - loss: 0.3362 - auc: 0.8933 - val_loss: 0.3361 - val_auc: 0.8962\n",
      "Epoch 26/30\n",
      "335/335 [==============================] - 80s 238ms/step - loss: 0.3360 - auc: 0.8927 - val_loss: 0.3349 - val_auc: 0.8964\n",
      "Epoch 27/30\n",
      "335/335 [==============================] - 75s 223ms/step - loss: 0.3352 - auc: 0.8935 - val_loss: 0.3317 - val_auc: 0.8968\n",
      "Epoch 28/30\n",
      "335/335 [==============================] - 76s 227ms/step - loss: 0.3336 - auc: 0.8949 - val_loss: 0.3312 - val_auc: 0.8973\n",
      "Epoch 29/30\n",
      "335/335 [==============================] - 79s 236ms/step - loss: 0.3338 - auc: 0.8947 - val_loss: 0.3311 - val_auc: 0.8976\n",
      "Epoch 30/30\n",
      "335/335 [==============================] - 76s 228ms/step - loss: 0.3323 - auc: 0.8959 - val_loss: 0.3298 - val_auc: 0.8979s: 0.3326 - auc\n"
     ]
    }
   ],
   "source": [
    "batch_size = 64\n",
    "epochs = 30\n",
    "history = model.fit(X_train, y_train, epochs = epochs, batch_size = batch_size, validation_data = (X_val, y_val))"
   ]
  },
  {
   "cell_type": "code",
   "execution_count": 24,
   "metadata": {},
   "outputs": [
    {
     "data": {
      "text/plain": [
       "['loss', 'auc']"
      ]
     },
     "execution_count": 24,
     "metadata": {},
     "output_type": "execute_result"
    }
   ],
   "source": [
    "model.metrics_names"
   ]
  },
  {
   "cell_type": "code",
   "execution_count": 25,
   "metadata": {},
   "outputs": [],
   "source": [
    "def plot(history):\n",
    "    plt.figure(figsize=(12, 6))\n",
    "    plt.subplot(1, 2, 1)\n",
    "    \n",
    "    epochs = history.epoch\n",
    "    loss = history.history['loss']\n",
    "    validation_loss = history.history['val_loss']\n",
    "    plt.title('LOSS')\n",
    "    plt.xlabel('epochs')\n",
    "    plt.ylabel('loss')\n",
    "    plt.plot(epochs,loss,c='red',label='training')\n",
    "    plt.plot(epochs,validation_loss,c='blue',label='validation')\n",
    "    plt.legend(loc='best')\n",
    "    \n",
    "    plt.subplot(1, 2, 2)\n",
    "    \n",
    "    acc = history.history['auc']\n",
    "    acc_val = history.history['val_auc']\n",
    "    plt.title('AUC')\n",
    "    plt.xlabel('epochs')\n",
    "    plt.ylabel('AUC')\n",
    "    plt.plot(epochs,acc,c='red',label='training')\n",
    "    plt.plot(epochs,acc_val,c='blue',label='validation')\n",
    "    plt.legend(loc='best')\n",
    "    \n",
    "    plt.show()"
   ]
  },
  {
   "cell_type": "code",
   "execution_count": 26,
   "metadata": {},
   "outputs": [
    {
     "data": {
      "image/png": "[encoded data removed]",
      "text/plain": [
       "<Figure size 864x432 with 2 Axes>"
      ]
     },
     "metadata": {
      "needs_background": "light"
     },
     "output_type": "display_data"
    }
   ],
   "source": [
    "plot(history)"
   ]
  },
  {
   "cell_type": "markdown",
   "metadata": {},
   "source": [
    "### Evaluacija mreže"
   ]
  },
  {
   "cell_type": "code",
   "execution_count": 27,
   "metadata": {},
   "outputs": [],
   "source": [
    "X_train_val = X_train_val/255"
   ]
  },
  {
   "cell_type": "code",
   "execution_count": 28,
   "metadata": {},
   "outputs": [
    {
     "name": "stdout",
     "output_type": "stream",
     "text": [
      "Model: \"sequential_1\"\n",
      "_________________________________________________________________\n",
      "Layer (type)                 Output Shape              Param #   \n",
      "=================================================================\n",
      "conv2d_2 (Conv2D)            (None, 50, 50, 32)        896       \n",
      "_________________________________________________________________\n",
      "max_pooling2d_2 (MaxPooling2 (None, 25, 25, 32)        0         \n",
      "_________________________________________________________________\n",
      "conv2d_3 (Conv2D)            (None, 25, 25, 64)        18496     \n",
      "_________________________________________________________________\n",
      "max_pooling2d_3 (MaxPooling2 (None, 12, 12, 64)        0         \n",
      "_________________________________________________________________\n",
      "flatten_1 (Flatten)          (None, 9216)              0         \n",
      "_________________________________________________________________\n",
      "dense_2 (Dense)              (None, 128)               1179776   \n",
      "_________________________________________________________________\n",
      "dropout_1 (Dropout)          (None, 128)               0         \n",
      "_________________________________________________________________\n",
      "dense_3 (Dense)              (None, 1)                 129       \n",
      "=================================================================\n",
      "Total params: 1,199,297\n",
      "Trainable params: 1,199,297\n",
      "Non-trainable params: 0\n",
      "_________________________________________________________________\n"
     ]
    }
   ],
   "source": [
    "input_shape = (50,50,3)\n",
    "\n",
    "model = Sequential()\n",
    "model.add(Conv2D(32, kernel_size=(3, 3), strides=(1, 1), padding='same', activation='relu', input_shape=input_shape))\n",
    "model.add(MaxPooling2D(pool_size=(2, 2)))\n",
    "model.add(Conv2D(64, (3, 3), strides=(1, 1), padding='same', activation='relu'))\n",
    "model.add(MaxPooling2D(pool_size=(2, 2)))\n",
    "model.add(Flatten())\n",
    "model.add(Dense(128, activation='relu'))\n",
    "model.add(Dropout(0.25))\n",
    "model.add(Dense(1, activation='sigmoid'))\n",
    "\n",
    "model.summary()\n",
    "\n",
    "model.compile(loss='binary_crossentropy', optimizer=Adam(learning_rate = 1e-5), metrics = [AUC(name = 'auc')])"
   ]
  },
  {
   "cell_type": "code",
   "execution_count": 29,
   "metadata": {},
   "outputs": [
    {
     "data": {
      "text/plain": [
       "<tensorflow.python.keras.callbacks.History at 0x1bc5744f908>"
      ]
     },
     "execution_count": 29,
     "metadata": {},
     "output_type": "execute_result"
    }
   ],
   "source": [
    "model.fit(X_train_val, y_train_val, epochs = epochs, batch_size = batch_size, verbose = 0)"
   ]
  },
  {
   "cell_type": "code",
   "execution_count": 30,
   "metadata": {},
   "outputs": [],
   "source": [
    "y_pred_prob = model.predict(X_test)"
   ]
  },
  {
   "cell_type": "code",
   "execution_count": 31,
   "metadata": {},
   "outputs": [],
   "source": [
    "y_pred = np.zeros(len(X_test))\n",
    "for i in range(len(X_test)):\n",
    "    if(y_pred_prob[i]>=0.5):\n",
    "        y_pred[i] = 1"
   ]
  },
  {
   "cell_type": "code",
   "execution_count": 32,
   "metadata": {},
   "outputs": [
    {
     "name": "stdout",
     "output_type": "stream",
     "text": [
      "[[9225  923]\n",
      " [1060 1992]]\n"
     ]
    }
   ],
   "source": [
    "m = confusion_matrix(y_test,y_pred)\n",
    "print(m)"
   ]
  },
  {
   "cell_type": "code",
   "execution_count": 33,
   "metadata": {},
   "outputs": [
    {
     "name": "stdout",
     "output_type": "stream",
     "text": [
      "              precision    recall  f1-score   support\n",
      "\n",
      "           0       0.90      0.91      0.90     10148\n",
      "           1       0.68      0.65      0.67      3052\n",
      "\n",
      "    accuracy                           0.85     13200\n",
      "   macro avg       0.79      0.78      0.79     13200\n",
      "weighted avg       0.85      0.85      0.85     13200\n",
      "\n"
     ]
    }
   ],
   "source": [
    "r = classification_report(y_test,y_pred)\n",
    "print(r)"
   ]
  },
  {
   "cell_type": "code",
   "execution_count": 34,
   "metadata": {},
   "outputs": [
    {
     "name": "stdout",
     "output_type": "stream",
     "text": [
      "accuracy: 0.85\n"
     ]
    }
   ],
   "source": [
    "accuracy = metrics.accuracy_score(y_test,y_pred)\n",
    "print('accuracy: {:.2f}' .format(accuracy))"
   ]
  },
  {
   "cell_type": "code",
   "execution_count": 35,
   "metadata": {},
   "outputs": [
    {
     "name": "stdout",
     "output_type": "stream",
     "text": [
      "f1_score: 0.67\n"
     ]
    }
   ],
   "source": [
    "f1 = metrics.f1_score(y_test,y_pred)\n",
    "print('f1_score: {:.2f}' .format(f1))"
   ]
  },
  {
   "cell_type": "code",
   "execution_count": 36,
   "metadata": {},
   "outputs": [
    {
     "name": "stdout",
     "output_type": "stream",
     "text": [
      "auc_score: 0.78\n"
     ]
    }
   ],
   "source": [
    "auc_score = metrics.roc_auc_score(y_test,y_pred)\n",
    "print('auc_score: {:.2f}' .format(auc_score))"
   ]
  }
 ],
 "metadata": {
  "kernelspec": {
   "display_name": "Python 3",
   "language": "python",
   "name": "python3"
  },
  "language_info": {
   "codemirror_mode": {
    "name": "ipython",
    "version": 3
   },
   "file_extension": ".py",
   "mimetype": "text/x-python",
   "name": "python",
   "nbconvert_exporter": "python",
   "pygments_lexer": "ipython3",
   "version": "3.7.8"
  }
 },
 "nbformat": 4,
 "nbformat_minor": 4
}
