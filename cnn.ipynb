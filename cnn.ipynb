{
 "cells": [
  {
   "cell_type": "markdown",
   "metadata": {},
   "source": [
    "# CNN "
   ]
  },
  {
   "cell_type": "code",
   "execution_count": 2,
   "metadata": {},
   "outputs": [],
   "source": [
    "import os\n",
    "import cv2\n",
    "import glob\n",
    "import fnmatch\n",
    "import numpy as np\n",
    "import pandas as pd\n",
    "from sklearn import model_selection\n",
    "from sklearn import metrics\n",
    "from sklearn.metrics import classification_report\n",
    "from sklearn.metrics import confusion_matrix\n",
    "from matplotlib import pyplot as plt\n",
    "import imblearn\n",
    "import seaborn as sns # Paket za crtanje countplotova(vizuelno predstavljanje klasa kod nebalansiranosti)"
   ]
  },
  {
   "cell_type": "code",
   "execution_count": 3,
   "metadata": {},
   "outputs": [],
   "source": [
    "from keras.models import Sequential\n",
    "from keras.layers import Dense,Dropout,Flatten,Conv2D,MaxPooling2D\n",
    "from keras.optimizers import Adam\n",
    "from keras.metrics import AUC\n",
    "from keras import utils"
   ]
  },
  {
   "cell_type": "markdown",
   "metadata": {},
   "source": [
    "### Učitavanje  podataka"
   ]
  },
  {
   "cell_type": "code",
   "execution_count": 4,
   "metadata": {},
   "outputs": [],
   "source": [
    "imagePatches = glob.glob('C:/Users/pc/Desktop/data/**/*.png', recursive=True)"
   ]
  },
  {
   "cell_type": "code",
   "execution_count": 5,
   "metadata": {},
   "outputs": [],
   "source": [
    "patternZero = '*class0.png'\n",
    "patternOne = '*class1.png'"
   ]
  },
  {
   "cell_type": "code",
   "execution_count": 6,
   "metadata": {},
   "outputs": [],
   "source": [
    "classZero = fnmatch.filter(imagePatches, patternZero) \n",
    "classOne = fnmatch.filter(imagePatches, patternOne)"
   ]
  },
  {
   "cell_type": "code",
   "execution_count": 7,
   "metadata": {},
   "outputs": [],
   "source": [
    "def load_images(lowerIndex,upperIndex):\n",
    "    x = []\n",
    "    y = []\n",
    "    width = 50\n",
    "    height = 50\n",
    "    for img in imagePatches[lowerIndex:upperIndex]:\n",
    "        image = cv2.imread(img)\n",
    "        x.append(cv2.resize(image, (width,height), interpolation=cv2.INTER_CUBIC)) # sve slike moraju biti istih dim \n",
    "        if img in classZero:\n",
    "            y.append(0)\n",
    "        elif img in classOne:\n",
    "            y.append(1)\n",
    "        else:\n",
    "            return\n",
    "    return x,y"
   ]
  },
  {
   "cell_type": "code",
   "execution_count": 8,
   "metadata": {},
   "outputs": [],
   "source": [
    "X,y = load_images(0,40000)"
   ]
  },
  {
   "cell_type": "code",
   "execution_count": 9,
   "metadata": {},
   "outputs": [],
   "source": [
    "X = np.array(X)\n",
    "y = np.array(y)"
   ]
  },
  {
   "cell_type": "markdown",
   "metadata": {},
   "source": [
    "### Podela podataka na train, validacioni i test skup"
   ]
  },
  {
   "cell_type": "code",
   "execution_count": 10,
   "metadata": {},
   "outputs": [],
   "source": [
    "X_train_val,X_test,y_train_val,y_test = model_selection.train_test_split(X, y, test_size = 0.33, random_state = 42, stratify = y)"
   ]
  },
  {
   "cell_type": "code",
   "execution_count": 11,
   "metadata": {},
   "outputs": [],
   "source": [
    "X_train,X_val,y_train,y_val = model_selection.train_test_split(X_train_val, y_train_val, test_size = 0.2, random_state = 42, stratify = y_train_val)"
   ]
  },
  {
   "cell_type": "markdown",
   "metadata": {},
   "source": [
    "### Normalizacija"
   ]
  },
  {
   "cell_type": "code",
   "execution_count": 12,
   "metadata": {},
   "outputs": [],
   "source": [
    "X_train = X_train.astype('float32')\n",
    "X_train = X_train/255"
   ]
  },
  {
   "cell_type": "code",
   "execution_count": 13,
   "metadata": {},
   "outputs": [],
   "source": [
    "X_val = X_val.astype('float32')\n",
    "X_val = X_val/255"
   ]
  },
  {
   "cell_type": "code",
   "execution_count": 14,
   "metadata": {},
   "outputs": [],
   "source": [
    "X_test = X_test.astype('float32')\n",
    "X_test = X_test/255"
   ]
  },
  {
   "cell_type": "markdown",
   "metadata": {},
   "source": [
    "### Nebalansiranost train skupa"
   ]
  },
  {
   "cell_type": "code",
   "execution_count": 15,
   "metadata": {},
   "outputs": [
    {
     "data": {
      "image/png": "[encoded data removed]",
      "text/plain": [
       "<Figure size 432x288 with 1 Axes>"
      ]
     },
     "metadata": {
      "needs_background": "light"
     },
     "output_type": "display_data"
    }
   ],
   "source": [
    "np.bincount(y_train)\n",
    "sns.countplot(y_train)\n",
    "plt.show()"
   ]
  },
  {
   "cell_type": "code",
   "execution_count": 16,
   "metadata": {},
   "outputs": [
    {
     "data": {
      "text/plain": [
       "(21440, 50, 50, 3)"
      ]
     },
     "execution_count": 16,
     "metadata": {},
     "output_type": "execute_result"
    }
   ],
   "source": [
    "X_train.shape"
   ]
  },
  {
   "cell_type": "code",
   "execution_count": 17,
   "metadata": {},
   "outputs": [
    {
     "data": {
      "text/plain": [
       "array([16484,  4956], dtype=int64)"
      ]
     },
     "execution_count": 17,
     "metadata": {},
     "output_type": "execute_result"
    }
   ],
   "source": [
    "np.bincount(y_train)"
   ]
  },
  {
   "cell_type": "code",
   "execution_count": 18,
   "metadata": {},
   "outputs": [
    {
     "data": {
      "text/plain": [
       "(5360, 50, 50, 3)"
      ]
     },
     "execution_count": 18,
     "metadata": {},
     "output_type": "execute_result"
    }
   ],
   "source": [
    "X_val.shape"
   ]
  },
  {
   "cell_type": "code",
   "execution_count": 19,
   "metadata": {},
   "outputs": [
    {
     "data": {
      "text/plain": [
       "array([4121, 1239], dtype=int64)"
      ]
     },
     "execution_count": 19,
     "metadata": {},
     "output_type": "execute_result"
    }
   ],
   "source": [
    "np.bincount(y_val)"
   ]
  },
  {
   "cell_type": "code",
   "execution_count": 20,
   "metadata": {},
   "outputs": [
    {
     "data": {
      "text/plain": [
       "(13200, 50, 50, 3)"
      ]
     },
     "execution_count": 20,
     "metadata": {},
     "output_type": "execute_result"
    }
   ],
   "source": [
    "X_test.shape"
   ]
  },
  {
   "cell_type": "code",
   "execution_count": 21,
   "metadata": {},
   "outputs": [
    {
     "data": {
      "text/plain": [
       "array([10148,  3052], dtype=int64)"
      ]
     },
     "execution_count": 21,
     "metadata": {},
     "output_type": "execute_result"
    }
   ],
   "source": [
    "np.bincount(y_test)"
   ]
  },
  {
   "cell_type": "markdown",
   "metadata": {},
   "source": [
    "### One-hot kodiranje ciljne promenljive"
   ]
  },
  {
   "cell_type": "code",
   "execution_count": 22,
   "metadata": {},
   "outputs": [],
   "source": [
    "number_of_classes = len(np.unique(y_train))\n",
    "y_train_oneHot = utils.to_categorical(y_train, number_of_classes)\n",
    "y_val_oneHot = utils.to_categorical(y_val, number_of_classes)\n",
    "y_test_oneHot = utils.to_categorical(y_test,number_of_classes)"
   ]
  },
  {
   "cell_type": "markdown",
   "metadata": {},
   "source": [
    "### Kreiranje i treniranje mreže "
   ]
  },
  {
   "cell_type": "code",
   "execution_count": 23,
   "metadata": {},
   "outputs": [
    {
     "name": "stdout",
     "output_type": "stream",
     "text": [
      "Model: \"sequential\"\n",
      "_________________________________________________________________\n",
      "Layer (type)                 Output Shape              Param #   \n",
      "=================================================================\n",
      "conv2d (Conv2D)              (None, 50, 50, 32)        896       \n",
      "_________________________________________________________________\n",
      "max_pooling2d (MaxPooling2D) (None, 25, 25, 32)        0         \n",
      "_________________________________________________________________\n",
      "conv2d_1 (Conv2D)            (None, 25, 25, 64)        18496     \n",
      "_________________________________________________________________\n",
      "max_pooling2d_1 (MaxPooling2 (None, 12, 12, 64)        0         \n",
      "_________________________________________________________________\n",
      "flatten (Flatten)            (None, 9216)              0         \n",
      "_________________________________________________________________\n",
      "dense (Dense)                (None, 128)               1179776   \n",
      "_________________________________________________________________\n",
      "dropout (Dropout)            (None, 128)               0         \n",
      "_________________________________________________________________\n",
      "dense_1 (Dense)              (None, 2)                 258       \n",
      "=================================================================\n",
      "Total params: 1,199,426\n",
      "Trainable params: 1,199,426\n",
      "Non-trainable params: 0\n",
      "_________________________________________________________________\n"
     ]
    }
   ],
   "source": [
    "input_shape = (50,50,3)\n",
    "\n",
    "model = Sequential()\n",
    "model.add(Conv2D(32, kernel_size=(3, 3), strides=(1, 1), padding='same', activation='relu', input_shape=input_shape))\n",
    "model.add(MaxPooling2D(pool_size=(2, 2)))\n",
    "model.add(Conv2D(64, (3, 3), strides=(1, 1), padding='same', activation='relu'))\n",
    "model.add(MaxPooling2D(pool_size=(2, 2)))\n",
    "model.add(Flatten())\n",
    "model.add(Dense(128, activation='relu'))\n",
    "model.add(Dropout(0.25))\n",
    "model.add(Dense(number_of_classes, activation='softmax'))\n",
    "\n",
    "model.summary()\n",
    "\n",
    "model.compile(loss='categorical_crossentropy', optimizer=Adam(learning_rate = 1e-5), metrics = [AUC()])"
   ]
  },
  {
   "cell_type": "code",
   "execution_count": 24,
   "metadata": {},
   "outputs": [
    {
     "name": "stdout",
     "output_type": "stream",
     "text": [
      "Epoch 1/30\n",
      "670/670 [==============================] - 69s 103ms/step - loss: 0.4229 - auc: 0.8940 - val_loss: 0.3589 - val_auc: 0.9238\n",
      "Epoch 2/30\n",
      "670/670 [==============================] - 71s 106ms/step - loss: 0.3575 - auc: 0.9216 - val_loss: 0.3464 - val_auc: 0.9267\n",
      "Epoch 3/30\n",
      "670/670 [==============================] - 72s 108ms/step - loss: 0.3515 - auc: 0.9241 - val_loss: 0.3414 - val_auc: 0.9283\n",
      "Epoch 4/30\n",
      "670/670 [==============================] - 91s 136ms/step - loss: 0.3464 - auc: 0.9262 - val_loss: 0.3382 - val_auc: 0.9298\n",
      "Epoch 5/30\n",
      "670/670 [==============================] - 96s 144ms/step - loss: 0.3439 - auc: 0.9272 - val_loss: 0.3389 - val_auc: 0.9304\n",
      "Epoch 6/30\n",
      "670/670 [==============================] - 107s 159ms/step - loss: 0.3417 - auc: 0.9282 - val_loss: 0.3394 - val_auc: 0.9310\n",
      "Epoch 7/30\n",
      "670/670 [==============================] - 109s 162ms/step - loss: 0.3415 - auc: 0.9283 - val_loss: 0.3336 - val_auc: 0.9318\n",
      "Epoch 8/30\n",
      "670/670 [==============================] - 110s 164ms/step - loss: 0.3389 - auc: 0.9295 - val_loss: 0.3325 - val_auc: 0.9328\n",
      "Epoch 9/30\n",
      "670/670 [==============================] - 111s 166ms/step - loss: 0.3360 - auc: 0.9308 - val_loss: 0.3306 - val_auc: 0.9329\n",
      "Epoch 10/30\n",
      "670/670 [==============================] - 111s 166ms/step - loss: 0.3362 - auc: 0.9306 - val_loss: 0.3317 - val_auc: 0.9334\n",
      "Epoch 11/30\n",
      "670/670 [==============================] - 112s 167ms/step - loss: 0.3346 - auc: 0.9313 - val_loss: 0.3294 - val_auc: 0.9338\n",
      "Epoch 12/30\n",
      "670/670 [==============================] - 117s 175ms/step - loss: 0.3328 - auc: 0.9320 - val_loss: 0.3283 - val_auc: 0.9343\n",
      "Epoch 13/30\n",
      "670/670 [==============================] - 110s 164ms/step - loss: 0.3321 - auc: 0.9324 - val_loss: 0.3276 - val_auc: 0.9343\n",
      "Epoch 14/30\n",
      "670/670 [==============================] - 117s 174ms/step - loss: 0.3308 - auc: 0.9328 - val_loss: 0.3270 - val_auc: 0.9347\n",
      "Epoch 15/30\n",
      "670/670 [==============================] - 110s 164ms/step - loss: 0.3295 - auc: 0.9334 - val_loss: 0.3272 - val_auc: 0.9345\n",
      "Epoch 16/30\n",
      "670/670 [==============================] - 118s 176ms/step - loss: 0.3288 - auc: 0.9337 - val_loss: 0.3254 - val_auc: 0.9354\n",
      "Epoch 17/30\n",
      "670/670 [==============================] - 117s 175ms/step - loss: 0.3278 - auc: 0.9342 - val_loss: 0.3299 - val_auc: 0.9339\n",
      "Epoch 18/30\n",
      "670/670 [==============================] - 123s 183ms/step - loss: 0.3275 - auc: 0.9342 - val_loss: 0.3244 - val_auc: 0.9359\n",
      "Epoch 19/30\n",
      "670/670 [==============================] - 125s 187ms/step - loss: 0.3256 - auc: 0.9351 - val_loss: 0.3232 - val_auc: 0.9362\n",
      "Epoch 20/30\n",
      "670/670 [==============================] - 118s 176ms/step - loss: 0.3255 - auc: 0.9351 - val_loss: 0.3255 - val_auc: 0.9360\n",
      "Epoch 21/30\n",
      "670/670 [==============================] - 118s 177ms/step - loss: 0.3240 - auc: 0.9357 - val_loss: 0.3222 - val_auc: 0.9365\n",
      "Epoch 22/30\n",
      "670/670 [==============================] - 118s 177ms/step - loss: 0.3225 - auc: 0.9363 - val_loss: 0.3218 - val_auc: 0.9368\n",
      "Epoch 23/30\n",
      "670/670 [==============================] - 117s 175ms/step - loss: 0.3218 - auc: 0.9366 - val_loss: 0.3209 - val_auc: 0.9371\n",
      "Epoch 24/30\n",
      "670/670 [==============================] - 118s 176ms/step - loss: 0.3216 - auc: 0.9367 - val_loss: 0.3207 - val_auc: 0.9372\n",
      "Epoch 25/30\n",
      "670/670 [==============================] - 114s 170ms/step - loss: 0.3204 - auc: 0.9371 - val_loss: 0.3215 - val_auc: 0.9367\n",
      "Epoch 26/30\n",
      "670/670 [==============================] - 118s 176ms/step - loss: 0.3200 - auc: 0.9373 - val_loss: 0.3210 - val_auc: 0.9378\n",
      "Epoch 27/30\n",
      "670/670 [==============================] - 113s 168ms/step - loss: 0.3183 - auc: 0.9380 - val_loss: 0.3192 - val_auc: 0.9378\n",
      "Epoch 28/30\n",
      "670/670 [==============================] - 119s 178ms/step - loss: 0.3185 - auc: 0.9379 - val_loss: 0.3247 - val_auc: 0.9353\n",
      "Epoch 29/30\n",
      "670/670 [==============================] - 118s 176ms/step - loss: 0.3166 - auc: 0.9387 - val_loss: 0.3192 - val_auc: 0.9376\n",
      "Epoch 30/30\n",
      "670/670 [==============================] - 108s 161ms/step - loss: 0.3169 - auc: 0.9386 - val_loss: 0.3176 - val_auc: 0.9385\n"
     ]
    }
   ],
   "source": [
    "batch_size = 32\n",
    "epochs = 30\n",
    "history = model.fit(X_train, y_train_oneHot, epochs = epochs, batch_size = batch_size, validation_data = (X_val, y_val_oneHot))"
   ]
  },
  {
   "cell_type": "markdown",
   "metadata": {},
   "source": [
    "### Evaluacija mreže"
   ]
  },
  {
   "cell_type": "code",
   "execution_count": 25,
   "metadata": {},
   "outputs": [
    {
     "data": {
      "text/plain": [
       "['loss', 'auc']"
      ]
     },
     "execution_count": 25,
     "metadata": {},
     "output_type": "execute_result"
    }
   ],
   "source": [
    "model.metrics_names"
   ]
  },
  {
   "cell_type": "code",
   "execution_count": 26,
   "metadata": {},
   "outputs": [],
   "source": [
    "def plot(history):\n",
    "    plt.figure(figsize=(12, 6))\n",
    "    plt.subplot(1, 2, 1)\n",
    "    \n",
    "    epochs = history.epoch\n",
    "    loss = history.history['loss']\n",
    "    validation_loss = history.history['val_loss']\n",
    "    plt.title('LOSS')\n",
    "    plt.xlabel('epochs')\n",
    "    plt.ylabel('loss')\n",
    "    plt.plot(epochs,loss,c='red',label='training')\n",
    "    plt.plot(epochs,validation_loss,c='blue',label='validation')\n",
    "    plt.legend(loc='best')\n",
    "    \n",
    "    plt.subplot(1, 2, 2)\n",
    "    \n",
    "    acc = history.history['auc']\n",
    "    acc_val = history.history['val_auc']\n",
    "    plt.title('AUC')\n",
    "    plt.xlabel('epochs')\n",
    "    plt.ylabel('AUC')\n",
    "    plt.plot(epochs,acc,c='red',label='training')\n",
    "    plt.plot(epochs,acc_val,c='blue',label='validation')\n",
    "    plt.legend(loc='best')\n",
    "    \n",
    "    plt.show()"
   ]
  },
  {
   "cell_type": "code",
   "execution_count": 27,
   "metadata": {},
   "outputs": [
    {
     "data": {
      "image/png": "[encoded data removed]",
      "text/plain": [
       "<Figure size 864x432 with 2 Axes>"
      ]
     },
     "metadata": {
      "needs_background": "light"
     },
     "output_type": "display_data"
    }
   ],
   "source": [
    "plot(history)"
   ]
  },
  {
   "cell_type": "code",
   "execution_count": 28,
   "metadata": {},
   "outputs": [],
   "source": [
    "y_pred = model.predict(X_test)"
   ]
  },
  {
   "cell_type": "code",
   "execution_count": 29,
   "metadata": {},
   "outputs": [],
   "source": [
    "y_pred = np.argmax(y_pred, axis = 1)"
   ]
  },
  {
   "cell_type": "code",
   "execution_count": 30,
   "metadata": {},
   "outputs": [
    {
     "name": "stdout",
     "output_type": "stream",
     "text": [
      "[[9397  751]\n",
      " [1178 1874]]\n"
     ]
    }
   ],
   "source": [
    "m = confusion_matrix(y_test,y_pred)\n",
    "print(m)"
   ]
  },
  {
   "cell_type": "code",
   "execution_count": 31,
   "metadata": {},
   "outputs": [
    {
     "name": "stdout",
     "output_type": "stream",
     "text": [
      "              precision    recall  f1-score   support\n",
      "\n",
      "           0       0.89      0.93      0.91     10148\n",
      "           1       0.71      0.61      0.66      3052\n",
      "\n",
      "    accuracy                           0.85     13200\n",
      "   macro avg       0.80      0.77      0.78     13200\n",
      "weighted avg       0.85      0.85      0.85     13200\n",
      "\n"
     ]
    }
   ],
   "source": [
    "r = classification_report(y_test,y_pred)\n",
    "print(r)"
   ]
  },
  {
   "cell_type": "code",
   "execution_count": 32,
   "metadata": {},
   "outputs": [
    {
     "name": "stdout",
     "output_type": "stream",
     "text": [
      "accuracy: 0.85\n"
     ]
    }
   ],
   "source": [
    "accuracy = metrics.accuracy_score(y_test,y_pred)\n",
    "print('accuracy: {:.2f}' .format(accuracy))"
   ]
  },
  {
   "cell_type": "code",
   "execution_count": 33,
   "metadata": {},
   "outputs": [
    {
     "name": "stdout",
     "output_type": "stream",
     "text": [
      "f1_score: 0.66\n"
     ]
    }
   ],
   "source": [
    "f1 = metrics.f1_score(y_test,y_pred)\n",
    "print('f1_score: {:.2f}' .format(f1))"
   ]
  },
  {
   "cell_type": "code",
   "execution_count": 34,
   "metadata": {},
   "outputs": [
    {
     "name": "stdout",
     "output_type": "stream",
     "text": [
      "auc_score: 0.77\n"
     ]
    }
   ],
   "source": [
    "auc_score = metrics.roc_auc_score(y_test,y_pred)\n",
    "print('auc_score: {:.2f}' .format(auc_score))"
   ]
  },
  {
   "cell_type": "code",
   "execution_count": null,
   "metadata": {},
   "outputs": [],
   "source": []
  }
 ],
 "metadata": {
  "kernelspec": {
   "display_name": "Python 3",
   "language": "python",
   "name": "python3"
  },
  "language_info": {
   "codemirror_mode": {
    "name": "ipython",
    "version": 3
   },
   "file_extension": ".py",
   "mimetype": "text/x-python",
   "name": "python",
   "nbconvert_exporter": "python",
   "pygments_lexer": "ipython3",
   "version": "3.7.8"
  }
 },
 "nbformat": 4,
 "nbformat_minor": 4
}
